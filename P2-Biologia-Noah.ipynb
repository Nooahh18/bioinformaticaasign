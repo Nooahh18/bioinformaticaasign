{
 "cells": [
  {
   "cell_type": "markdown",
   "id": "985e6f9b",
   "metadata": {},
   "source": [
    "# PRACTICA 2\n",
    "\n",
    "### ¡Con todo lo aprendido con Python, vamos a resolver unos ejercicios de Bioinformática!\n",
    "\n",
    "#### 1.- Concatena las cadenas ATGCC y TCCG"
   ]
  },
  {
   "cell_type": "code",
   "execution_count": 1,
   "id": "c06c7b6f",
   "metadata": {},
   "outputs": [],
   "source": [
    "cadena1 = \"ATGCC\"\n",
    "cadena2 = \"TCCG\""
   ]
  },
  {
   "cell_type": "code",
   "execution_count": 2,
   "id": "b845927c",
   "metadata": {},
   "outputs": [],
   "source": [
    "cadena3 = cadena1 + cadena2 "
   ]
  },
  {
   "cell_type": "code",
   "execution_count": 3,
   "id": "7368011c-f40d-4917-9c85-72bfd75feabc",
   "metadata": {},
   "outputs": [
    {
     "data": {
      "text/plain": [
       "'ATGCCTCCG'"
      ]
     },
     "execution_count": 3,
     "metadata": {},
     "output_type": "execute_result"
    }
   ],
   "source": [
    "cadena3"
   ]
  },
  {
   "cell_type": "markdown",
   "id": "1f4b7708",
   "metadata": {},
   "source": [
    "#### 2.- ¿Cuál es la longitud de ATGCGAGT?"
   ]
  },
  {
   "cell_type": "code",
   "execution_count": 4,
   "id": "8f78cad8",
   "metadata": {},
   "outputs": [],
   "source": [
    "dna=\"ATGCGAGT\""
   ]
  },
  {
   "cell_type": "code",
   "execution_count": 5,
   "id": "ecce1da6",
   "metadata": {},
   "outputs": [
    {
     "data": {
      "text/plain": [
       "8"
      ]
     },
     "execution_count": 5,
     "metadata": {},
     "output_type": "execute_result"
    }
   ],
   "source": [
    "len(dna)"
   ]
  },
  {
   "cell_type": "markdown",
   "id": "6361c287",
   "metadata": {},
   "source": [
    "#### 3.- Con la cadena mgXDyTw, ponla en mayúsculas, luego en minúsculas. Extrae su longitud y divide la cadena por la letra \"g\""
   ]
  },
  {
   "cell_type": "code",
   "execution_count": 7,
   "id": "b69beca1",
   "metadata": {},
   "outputs": [],
   "source": [
    "cadena=\"mgXDyTw\""
   ]
  },
  {
   "cell_type": "code",
   "execution_count": 8,
   "id": "51591dca",
   "metadata": {
    "scrolled": true
   },
   "outputs": [
    {
     "data": {
      "text/plain": [
       "'MGXDYTW'"
      ]
     },
     "execution_count": 8,
     "metadata": {},
     "output_type": "execute_result"
    }
   ],
   "source": [
    "cadena.upper()"
   ]
  },
  {
   "cell_type": "code",
   "execution_count": 9,
   "id": "6c44359d-91a9-4614-a129-da843345f51a",
   "metadata": {
    "scrolled": true
   },
   "outputs": [
    {
     "data": {
      "text/plain": [
       "'mgxdytw'"
      ]
     },
     "execution_count": 9,
     "metadata": {},
     "output_type": "execute_result"
    }
   ],
   "source": [
    "cadena.lower()"
   ]
  },
  {
   "cell_type": "code",
   "execution_count": 10,
   "id": "d81d315b-f0ce-426d-a27d-05834d7c8c39",
   "metadata": {},
   "outputs": [
    {
     "data": {
      "text/plain": [
       "7"
      ]
     },
     "execution_count": 10,
     "metadata": {},
     "output_type": "execute_result"
    }
   ],
   "source": [
    "len(cadena)"
   ]
  },
  {
   "cell_type": "code",
   "execution_count": 11,
   "id": "f9704763-dbe5-45b3-b04c-ac3d2ed357c6",
   "metadata": {},
   "outputs": [
    {
     "data": {
      "text/plain": [
       "['m', 'XDyTw']"
      ]
     },
     "execution_count": 11,
     "metadata": {},
     "output_type": "execute_result"
    }
   ],
   "source": [
    "cadena.split(\"g\")"
   ]
  },
  {
   "cell_type": "markdown",
   "id": "91c2ca9d",
   "metadata": {},
   "source": [
    "#### 4.- Con la secuencia de aminoácidos vlspadktnv, reemplaza la valina con la tirosina. Pista: usa replace()"
   ]
  },
  {
   "cell_type": "code",
   "execution_count": 17,
   "id": "a049ecdd",
   "metadata": {},
   "outputs": [],
   "source": [
    "aa = \"vlspadktnv\""
   ]
  },
  {
   "cell_type": "code",
   "execution_count": 16,
   "id": "0c464cc2",
   "metadata": {},
   "outputs": [
    {
     "data": {
      "text/plain": [
       "'tlspadktnt'"
      ]
     },
     "execution_count": 16,
     "metadata": {},
     "output_type": "execute_result"
    }
   ],
   "source": [
    "aa.replace(\"v\",\"t\")"
   ]
  },
  {
   "cell_type": "markdown",
   "id": "97f9ecd6",
   "metadata": {},
   "source": [
    "#### 5.- Cuenta las valinas de la secuencia original anterior."
   ]
  },
  {
   "cell_type": "code",
   "execution_count": 18,
   "id": "b4b5600f",
   "metadata": {},
   "outputs": [
    {
     "data": {
      "text/plain": [
       "2"
      ]
     },
     "execution_count": 18,
     "metadata": {},
     "output_type": "execute_result"
    }
   ],
   "source": [
    "aa.count(\"v\")"
   ]
  },
  {
   "cell_type": "markdown",
   "id": "6aac8e24",
   "metadata": {},
   "source": [
    "#### 6.- Con el diccionario siguiente imprime el valor de BisI y saca el valor de EcoRI con pop(). ¿Qué pasa con el diccionario?"
   ]
  },
  {
   "cell_type": "code",
   "execution_count": 20,
   "id": "c0c811d7",
   "metadata": {},
   "outputs": [],
   "source": [
    "enzR = {\n",
    "    'EcoRI':r'GAATTC',\n",
    "    'AvaII':r'GG(A|T)CC',\n",
    "    'BisI':r'GC[ATGC]GC'\n",
    "}"
   ]
  },
  {
   "cell_type": "code",
   "execution_count": 21,
   "id": "5dacb009",
   "metadata": {
    "scrolled": true
   },
   "outputs": [
    {
     "name": "stdout",
     "output_type": "stream",
     "text": [
      "GC[ATGC]GC\n"
     ]
    }
   ],
   "source": [
    "print(enzR[\"BisI\"])"
   ]
  },
  {
   "cell_type": "code",
   "execution_count": 22,
   "id": "c6a23c93-9de7-4450-92a2-1a55ffb6667b",
   "metadata": {},
   "outputs": [
    {
     "data": {
      "text/plain": [
       "'GAATTC'"
      ]
     },
     "execution_count": 22,
     "metadata": {},
     "output_type": "execute_result"
    }
   ],
   "source": [
    "enzR.pop(\"EcoRI\")"
   ]
  },
  {
   "cell_type": "markdown",
   "id": "4646bddd",
   "metadata": {},
   "source": [
    "#### 7.- Con la secuencia y la lista siguiente, escribe un algoritmo que cuente el número de veces que aparece un elemento de la lista en la secuencia. Pista: hacer un diccionario para almacenar los resultados puede ser buena idea"
   ]
  },
  {
   "cell_type": "code",
   "execution_count": 74,
   "id": "0a701a5e",
   "metadata": {},
   "outputs": [],
   "source": [
    "dna = \"AATGATGAACGAC\" \n",
    "dinucleotides = ['AA','AT','AG','AC', \n",
    "                 'TA','TT','TG','TC', \n",
    "                 'GA','GT','GG','GC', \n",
    "                 'CA','CT','CG','CT'] "
   ]
  },
  {
   "cell_type": "code",
   "execution_count": 60,
   "id": "e028dbc8",
   "metadata": {},
   "outputs": [],
   "source": [
    "def numero_veces(dinucleotides):\n",
    "    resultados = {}\n",
    "    for i in dinucleotides:\n",
    "        if i in dna:\n",
    "            resultados[i] = dna.count(i)\n",
    "    return resultados\n"
   ]
  },
  {
   "cell_type": "code",
   "execution_count": 40,
   "id": "75e110ad-7df0-4ba9-906e-8316562eaafb",
   "metadata": {},
   "outputs": [],
   "source": [
    "resultados = numero_veces(dinucleotides)"
   ]
  },
  {
   "cell_type": "code",
   "execution_count": 41,
   "id": "61701163-2707-4db2-baeb-6bd16ace3492",
   "metadata": {},
   "outputs": [
    {
     "name": "stdout",
     "output_type": "stream",
     "text": [
      "{'AA': 2, 'AT': 2, 'AC': 2, 'TG': 2, 'GA': 3, 'CG': 1}\n"
     ]
    }
   ],
   "source": [
    "print (resultados)"
   ]
  },
  {
   "cell_type": "markdown",
   "id": "a44b5e4c",
   "metadata": {},
   "source": [
    "##### ¿Cuántos counts tiene TC?"
   ]
  },
  {
   "cell_type": "code",
   "execution_count": 42,
   "id": "3003eef4",
   "metadata": {},
   "outputs": [],
   "source": [
    "count = {}\n",
    "for i in dinucleotides:\n",
    "    dna.count(\"\")"
   ]
  },
  {
   "cell_type": "code",
   "execution_count": 43,
   "id": "f87ee228-9487-4fdd-95f6-25ae29fa7722",
   "metadata": {},
   "outputs": [
    {
     "data": {
      "text/plain": [
       "0"
      ]
     },
     "execution_count": 43,
     "metadata": {},
     "output_type": "execute_result"
    }
   ],
   "source": [
    "dna.count(\"TC\")"
   ]
  },
  {
   "cell_type": "markdown",
   "id": "70245f18",
   "metadata": {},
   "source": [
    "##### ¿Puedes imprimir los dinuleótidos que tengan counts igual a 2?"
   ]
  },
  {
   "cell_type": "code",
   "execution_count": 75,
   "id": "b83480e8",
   "metadata": {},
   "outputs": [
    {
     "name": "stdout",
     "output_type": "stream",
     "text": [
      "AA\n",
      "AT\n",
      "AC\n",
      "TG\n"
     ]
    }
   ],
   "source": [
    "count = {}\n",
    "for i in dinucleotides:\n",
    "    count[i] = dna.count(i)\n",
    "\n",
    "for i in dinucleotides:\n",
    "    if count[i] == 2:\n",
    "        print(i)\n"
   ]
  },
  {
   "cell_type": "code",
   "execution_count": null,
   "id": "78bce15e-29a9-4f55-83cb-7275c4ba894e",
   "metadata": {},
   "outputs": [],
   "source": []
  }
 ],
 "metadata": {
  "kernelspec": {
   "display_name": "Python [conda env:base] *",
   "language": "python",
   "name": "conda-base-py"
  },
  "language_info": {
   "codemirror_mode": {
    "name": "ipython",
    "version": 3
   },
   "file_extension": ".py",
   "mimetype": "text/x-python",
   "name": "python",
   "nbconvert_exporter": "python",
   "pygments_lexer": "ipython3",
   "version": "3.13.5"
  }
 },
 "nbformat": 4,
 "nbformat_minor": 5
}
