{
 "cells": [
  {
   "cell_type": "markdown",
   "id": "c4db2a82",
   "metadata": {},
   "source": [
    "### ARCHIVOS"
   ]
  },
  {
   "cell_type": "markdown",
   "id": "a36f6c3d",
   "metadata": {},
   "source": [
    "Python emplea unos file objects para interactuar con los archivos de tu ordenador."
   ]
  },
  {
   "cell_type": "markdown",
   "id": "8852f200",
   "metadata": {},
   "source": [
    "Puede manejar cualquier tipo de archivo, para algunos es posible que necesites librerías adicionales."
   ]
  },
  {
   "cell_type": "markdown",
   "id": "6a138ee9",
   "metadata": {},
   "source": [
    "Podemos abrir archivos con **open()**, leerlos con **read() o readlines()**, cerrarlos con **close()** y escribir en ellos con **write()**. "
   ]
  },
  {
   "cell_type": "markdown",
   "id": "39e31c5a",
   "metadata": {},
   "source": [
    "Usando **open()** y w, w+, a+ nos permite sobreescribir o añadir información a la ya existente."
   ]
  },
  {
   "cell_type": "code",
   "execution_count": 1,
   "id": "40cb0623",
   "metadata": {},
   "outputs": [],
   "source": [
    "# Vamos a abrir el archivo test.txt.\n",
    "mi_archivo=open('test.txt')"
   ]
  },
  {
   "cell_type": "code",
   "execution_count": 2,
   "id": "696728c6",
   "metadata": {},
   "outputs": [
    {
     "data": {
      "text/plain": [
       "<_io.TextIOWrapper name='test.txt' mode='r' encoding='cp1252'>"
      ]
     },
     "execution_count": 2,
     "metadata": {},
     "output_type": "execute_result"
    }
   ],
   "source": [
    "mi_archivo"
   ]
  },
  {
   "cell_type": "code",
   "execution_count": null,
   "id": "912573d4-f147-49ce-8556-47f7fb85f248",
   "metadata": {},
   "outputs": [],
   "source": [
    "nombre del archivo exactamente. no vemos el archivo no lo podemos leer"
   ]
  },
  {
   "cell_type": "code",
   "execution_count": 3,
   "id": "32d4eef6",
   "metadata": {},
   "outputs": [
    {
     "data": {
      "text/plain": [
       "'Esta es una linea nueva\\nEsta linea va detras de la anterior\\nY aqui ponemos otra'"
      ]
     },
     "execution_count": 3,
     "metadata": {},
     "output_type": "execute_result"
    }
   ],
   "source": [
    "# Leemos el archivo. \n",
    "mi_archivo.read()"
   ]
  },
  {
   "cell_type": "code",
   "execution_count": null,
   "id": "da3692c4-c51f-4969-9531-490fd5f6e13f",
   "metadata": {},
   "outputs": [],
   "source": [
    "vemos el contenido, lo vemos en una linea, vemos los saltos de linea (barra n)"
   ]
  },
  {
   "cell_type": "code",
   "execution_count": 4,
   "id": "444c3f14",
   "metadata": {
    "scrolled": true
   },
   "outputs": [
    {
     "data": {
      "text/plain": [
       "''"
      ]
     },
     "execution_count": 4,
     "metadata": {},
     "output_type": "execute_result"
    }
   ],
   "source": [
    "# Pero, qué pasa si lo leemos más de una vez? Que nos lleva el cursor al final\n",
    "mi_archivo.read()"
   ]
  },
  {
   "cell_type": "code",
   "execution_count": null,
   "id": "aba0ddf0-2e6e-4f1c-84b8-c6e8ffe1cbc8",
   "metadata": {},
   "outputs": [],
   "source": [
    "funcionacomo que pasa el cursor, asi que si lo volvemos a leer se queda en blanco"
   ]
  },
  {
   "cell_type": "code",
   "execution_count": 5,
   "id": "f96508bf",
   "metadata": {},
   "outputs": [
    {
     "data": {
      "text/plain": [
       "0"
      ]
     },
     "execution_count": 5,
     "metadata": {},
     "output_type": "execute_result"
    }
   ],
   "source": [
    "# Podemos reseatear el cursor así\n",
    "mi_archivo.seek(0)"
   ]
  },
  {
   "cell_type": "code",
   "execution_count": null,
   "id": "06be28ee-d97a-4871-9557-a101c4490757",
   "metadata": {},
   "outputs": [],
   "source": [
    "reinicia el cursos y nos vuleve a aparecer el texto en reed"
   ]
  },
  {
   "cell_type": "code",
   "execution_count": 6,
   "id": "dbb682dd",
   "metadata": {},
   "outputs": [
    {
     "data": {
      "text/plain": [
       "'Esta es una linea nueva\\nEsta linea va detras de la anterior\\nY aqui ponemos otra'"
      ]
     },
     "execution_count": 6,
     "metadata": {},
     "output_type": "execute_result"
    }
   ],
   "source": [
    "mi_archivo.read()"
   ]
  },
  {
   "cell_type": "code",
   "execution_count": 7,
   "id": "32cbcc63",
   "metadata": {},
   "outputs": [
    {
     "data": {
      "text/plain": [
       "<_io.TextIOWrapper name='test.txt' mode='r' encoding='cp1252'>"
      ]
     },
     "execution_count": 7,
     "metadata": {},
     "output_type": "execute_result"
    }
   ],
   "source": [
    "mi_archivo"
   ]
  },
  {
   "cell_type": "code",
   "execution_count": 8,
   "id": "b54d71ab",
   "metadata": {},
   "outputs": [
    {
     "data": {
      "text/plain": [
       "['Esta es una linea nueva\\n',\n",
       " 'Esta linea va detras de la anterior\\n',\n",
       " 'Y aqui ponemos otra']"
      ]
     },
     "execution_count": 8,
     "metadata": {},
     "output_type": "execute_result"
    }
   ],
   "source": [
    "# Si usamos la función readlines() nos devuelve una lista para cada línea del archivo\n",
    "mi_archivo.seek(0)\n",
    "mi_archivo.readlines()"
   ]
  },
  {
   "cell_type": "code",
   "execution_count": null,
   "id": "2f506981-c5db-4677-abad-936007c0b4ba",
   "metadata": {},
   "outputs": [],
   "source": [
    "vemos y reiniciamos, es la vamos a usar de normal"
   ]
  },
  {
   "cell_type": "code",
   "execution_count": 10,
   "id": "f7c01a26",
   "metadata": {},
   "outputs": [],
   "source": [
    "# Podemos cerrar un archivo. Siempre es buena idea cerrarlos para evitar que consuman memoria.\n",
    "mi_archivo.close()"
   ]
  },
  {
   "cell_type": "code",
   "execution_count": 13,
   "id": "2a69927b",
   "metadata": {},
   "outputs": [],
   "source": [
    "# Podemos escribir un archivo usando open y w+ que se emplea para leer y escribir sobre el archivo.\n",
    "# Hay que tener en cuenta que si se usa w o w+ se elimina el contenido anterior del archivo!!!!\n",
    "mi_archivo=open('test.txt','w+')"
   ]
  },
  {
   "cell_type": "code",
   "execution_count": null,
   "id": "1aafdab6-0ac9-4a88-b4fa-469b81a57124",
   "metadata": {},
   "outputs": [],
   "source": [
    "escribir en un archivo, añadr texo, si añadimos w+, todo lo que excribe elimina lo anterior, sobreescribe"
   ]
  },
  {
   "cell_type": "code",
   "execution_count": 14,
   "id": "f4188a5c",
   "metadata": {},
   "outputs": [
    {
     "data": {
      "text/plain": [
       "23"
      ]
     },
     "execution_count": 14,
     "metadata": {},
     "output_type": "execute_result"
    }
   ],
   "source": [
    "# Ahora escribimos en él\n",
    "mi_archivo.write('Esta es una linea nueva')"
   ]
  },
  {
   "cell_type": "code",
   "execution_count": 15,
   "id": "3a5fcb6e",
   "metadata": {},
   "outputs": [
    {
     "data": {
      "text/plain": [
       "'Esta es una linea nueva'"
      ]
     },
     "execution_count": 15,
     "metadata": {},
     "output_type": "execute_result"
    }
   ],
   "source": [
    "mi_archivo.seek(0)\n",
    "mi_archivo.read()"
   ]
  },
  {
   "cell_type": "code",
   "execution_count": null,
   "id": "dd01072c",
   "metadata": {},
   "outputs": [],
   "source": [
    "mi_archivo.close()"
   ]
  },
  {
   "cell_type": "code",
   "execution_count": 17,
   "id": "fbd711fb",
   "metadata": {},
   "outputs": [
    {
     "data": {
      "text/plain": [
       "20"
      ]
     },
     "execution_count": 17,
     "metadata": {},
     "output_type": "execute_result"
    }
   ],
   "source": [
    "# Ahora queremos añadir información nueva\n",
    "mi_archivo = open('test.txt','a+')\n",
    "mi_archivo.write('\\nEsta linea va detras de la anterior')\n",
    "mi_archivo.write('\\nY aqui ponemos otra')"
   ]
  },
  {
   "cell_type": "code",
   "execution_count": null,
   "id": "028fb4df-5190-41ac-8f02-a068502ef778",
   "metadata": {},
   "outputs": [],
   "source": [
    "para no sobreescribir sino añador usamos a+, usamos barra n para hacer las lienas"
   ]
  },
  {
   "cell_type": "code",
   "execution_count": 18,
   "id": "68b548e9",
   "metadata": {},
   "outputs": [
    {
     "data": {
      "text/plain": [
       "'Esta es una linea nueva\\nEsta linea va detras de la anterior\\nY aqui ponemos otra\\nEsta linea va detras de la anterior\\nY aqui ponemos otra'"
      ]
     },
     "execution_count": 18,
     "metadata": {},
     "output_type": "execute_result"
    }
   ],
   "source": [
    "mi_archivo.seek(0)\n",
    "mi_archivo.read()"
   ]
  },
  {
   "cell_type": "code",
   "execution_count": 19,
   "id": "f8f175a1",
   "metadata": {},
   "outputs": [
    {
     "name": "stdout",
     "output_type": "stream",
     "text": [
      "Esta es una linea nueva\n",
      "Esta linea va detras de la anterior\n",
      "Y aqui ponemos otra\n",
      "Esta linea va detras de la anterior\n",
      "Y aqui ponemos otra\n"
     ]
    }
   ],
   "source": [
    "mi_archivo.seek(0)\n",
    "print(mi_archivo.read())"
   ]
  },
  {
   "cell_type": "code",
   "execution_count": 20,
   "id": "9144d98d",
   "metadata": {},
   "outputs": [
    {
     "name": "stdout",
     "output_type": "stream",
     "text": [
      "Esta es una linea nueva\n",
      "\n",
      "Esta linea va detras de la anterior\n",
      "\n",
      "Y aqui ponemos otra\n",
      "\n",
      "Esta linea va detras de la anterior\n",
      "\n",
      "Y aqui ponemos otra\n"
     ]
    }
   ],
   "source": [
    "# También podemos iterar sobre los archivos\n",
    "mi_archivo.seek(0)\n",
    "for line in mi_archivo:\n",
    "    print(line)"
   ]
  },
  {
   "cell_type": "code",
   "execution_count": null,
   "id": "3f655c60-2567-4182-ba6f-0f7f2d4a8631",
   "metadata": {},
   "outputs": [],
   "source": [
    "una vez leido hacemos un bucle,en este caso para cada cosa de mi archivo imprimeme esa cosa"
   ]
  },
  {
   "cell_type": "code",
   "execution_count": 22,
   "id": "90990091",
   "metadata": {},
   "outputs": [],
   "source": [
    "mi_archivo.close()"
   ]
  }
 ],
 "metadata": {
  "kernelspec": {
   "display_name": "Python [conda env:base] *",
   "language": "python",
   "name": "conda-base-py"
  },
  "language_info": {
   "codemirror_mode": {
    "name": "ipython",
    "version": 3
   },
   "file_extension": ".py",
   "mimetype": "text/x-python",
   "name": "python",
   "nbconvert_exporter": "python",
   "pygments_lexer": "ipython3",
   "version": "3.13.5"
  }
 },
 "nbformat": 4,
 "nbformat_minor": 5
}
