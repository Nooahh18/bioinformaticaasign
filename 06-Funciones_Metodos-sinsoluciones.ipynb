{
 "cells": [
  {
   "cell_type": "markdown",
   "id": "5f1f2528",
   "metadata": {},
   "source": [
    "### METODOS. Algunos ejemplos"
   ]
  },
  {
   "cell_type": "markdown",
   "id": "3fdf12c7",
   "metadata": {},
   "source": [
    "Los métodos son funciones construidas en Python. ¡Ya hemos visto algunos en clase!\n",
    "\n",
    "Los métodos realizan acciones sobre un objeto y pueden tomar argumentos, como una función.\n",
    "\n",
    "Algunos ejemplos de métodos para las listas serían: **append()**, **count()**, **extend()**, **insert()**, **pop()**, **remove()**, **reverse()** o **sort()**."
   ]
  },
  {
   "cell_type": "code",
   "execution_count": null,
   "id": "f088f754-6f7b-4ee8-a770-c971641ddc61",
   "metadata": {},
   "outputs": [],
   "source": [
    "Funciones ya construidas que vienen con ptython \n",
    "append: nos añade\n",
    "Lista crea lista \n",
    "conunt cuenta las veces que aparece"
   ]
  },
  {
   "cell_type": "code",
   "execution_count": 1,
   "id": "19e9e8d2",
   "metadata": {},
   "outputs": [],
   "source": [
    "lista = [1,2,3,4,5]"
   ]
  },
  {
   "cell_type": "code",
   "execution_count": 2,
   "id": "ab96c675",
   "metadata": {},
   "outputs": [
    {
     "data": {
      "text/plain": [
       "[1, 2, 3, 4, 5, 6]"
      ]
     },
     "execution_count": 2,
     "metadata": {},
     "output_type": "execute_result"
    }
   ],
   "source": [
    "lista.append(6)\n",
    "lista"
   ]
  },
  {
   "cell_type": "code",
   "execution_count": 3,
   "id": "54f0488c",
   "metadata": {},
   "outputs": [
    {
     "data": {
      "text/plain": [
       "1"
      ]
     },
     "execution_count": 3,
     "metadata": {},
     "output_type": "execute_result"
    }
   ],
   "source": [
    "lista.count(2)"
   ]
  },
  {
   "cell_type": "code",
   "execution_count": 4,
   "id": "ef6ec0a3",
   "metadata": {},
   "outputs": [
    {
     "name": "stdout",
     "output_type": "stream",
     "text": [
      "Help on built-in function count:\n",
      "\n",
      "count(value, /) method of builtins.list instance\n",
      "    Return number of occurrences of value.\n",
      "\n"
     ]
    }
   ],
   "source": [
    "help(lista.count)"
   ]
  },
  {
   "cell_type": "code",
   "execution_count": null,
   "id": "1b71bb30-b9b4-4f1c-8067-75b3da2a757e",
   "metadata": {},
   "outputs": [],
   "source": [
    "nos da el resumen de como funciona una funcion en resumido"
   ]
  },
  {
   "cell_type": "markdown",
   "id": "9af39265",
   "metadata": {},
   "source": [
    "### FUNCIONES"
   ]
  },
  {
   "cell_type": "markdown",
   "id": "347a1b63",
   "metadata": {},
   "source": [
    "Una función nos permite guardar bloques de código y ejecutarlos numerosas veces llamándolos por su nombre. De esta forma, no necesitamos escribir todo el código cada vez que queramos ejecutarlo.\n",
    "\n",
    "Podemos especificar unos parámetros que nos sirvan como input para las funciones. También podemos especificar los valores de salida que queramos.\n",
    "\n",
    "Las funciones se denominan con **def nombre_función(arg1,arg2):**\n"
   ]
  },
  {
   "cell_type": "code",
   "execution_count": null,
   "id": "da465d6e-8818-4473-a6cb-df6cfcf61478",
   "metadata": {},
   "outputs": [],
   "source": [
    "vamos a aprender a crear/definir funciones def nombre funcion y los parentesis, a veces podemos a veces no, si no podnemos nada funciona, si tiene argumentos la definimos"
   ]
  },
  {
   "cell_type": "code",
   "execution_count": 5,
   "id": "0ea4ff95",
   "metadata": {},
   "outputs": [],
   "source": [
    "# Hacemos nuestra primera función\n",
    "def di_hola():\n",
    "    print('hola')"
   ]
  },
  {
   "cell_type": "code",
   "execution_count": 6,
   "id": "f8e3acff",
   "metadata": {
    "scrolled": true
   },
   "outputs": [
    {
     "name": "stdout",
     "output_type": "stream",
     "text": [
      "hola\n"
     ]
    }
   ],
   "source": [
    "# Ahora llamamos a nuestra función\n",
    "di_hola()"
   ]
  },
  {
   "cell_type": "code",
   "execution_count": null,
   "id": "1f159420-be30-4418-8b5b-4986ed2041c9",
   "metadata": {},
   "outputs": [],
   "source": [
    "solo dice hola"
   ]
  },
  {
   "cell_type": "code",
   "execution_count": 7,
   "id": "b5276f17",
   "metadata": {},
   "outputs": [
    {
     "data": {
      "text/plain": [
       "<function __main__.di_hola()>"
      ]
     },
     "execution_count": 7,
     "metadata": {},
     "output_type": "execute_result"
    }
   ],
   "source": [
    "# Si no ponemos los paréntesis, vemos que nos dice que es una función\n",
    "di_hola"
   ]
  },
  {
   "cell_type": "code",
   "execution_count": null,
   "id": "045e6b2d-0aaa-4b6d-8edf-76819c8805c4",
   "metadata": {},
   "outputs": [],
   "source": [
    "nos recierda que hayq ue poner los parentesis"
   ]
  },
  {
   "cell_type": "code",
   "execution_count": 8,
   "id": "d4366bc9",
   "metadata": {
    "scrolled": true
   },
   "outputs": [
    {
     "name": "stdout",
     "output_type": "stream",
     "text": [
      "Hola Jose\n"
     ]
    }
   ],
   "source": [
    "# Podemos usar los argumentos\n",
    "def saludos(nombre):\n",
    "        print(f'Hola {nombre}')\n",
    "saludos('Jose')"
   ]
  },
  {
   "cell_type": "code",
   "execution_count": null,
   "id": "2a5a3c96-68e2-4bad-80c5-cb11152ed744",
   "metadata": {},
   "outputs": [],
   "source": [
    "aqui hemos añadido argumentos"
   ]
  },
  {
   "cell_type": "code",
   "execution_count": 11,
   "id": "4e0bd891",
   "metadata": {},
   "outputs": [],
   "source": [
    "nombre='pepito'"
   ]
  },
  {
   "cell_type": "code",
   "execution_count": 10,
   "id": "65d943e3",
   "metadata": {},
   "outputs": [
    {
     "name": "stdout",
     "output_type": "stream",
     "text": [
      "Hola Lucía\n"
     ]
    }
   ],
   "source": [
    "saludos(nombre)"
   ]
  },
  {
   "cell_type": "markdown",
   "id": "34cc37c5-15ca-4436-abc4-2cdd4b70834e",
   "metadata": {},
   "source": [
    "podemos poner numeros, porque no le hemos dicho nada"
   ]
  },
  {
   "cell_type": "code",
   "execution_count": 14,
   "id": "e90d4e5f",
   "metadata": {},
   "outputs": [],
   "source": [
    "# Podemos mostrar el output de una función con print() o con return. Return nos permite guardar el resultado en una variable\n",
    "# Así ese resultado lo podemos usar para lo que queramos. \n",
    "# Con print no guardamos el resultado en una variable, solo lo mostramos.\n",
    "def suma_numeros(n1,n2):\n",
    "    if type(n1) == int and type(n2)== int:\n",
    "        suma=n1+n2\n",
    "        return suma"
   ]
  },
  {
   "cell_type": "code",
   "execution_count": null,
   "id": "ec309a93-d804-4633-bc43-05d34101ad67",
   "metadata": {},
   "outputs": [],
   "source": [
    "hemos definidio que nos sume nuemros enteros (int), return es el que solemos usar porque devuelve el resultado y la funcion y nos permite guardar en resultado en una variable"
   ]
  },
  {
   "cell_type": "code",
   "execution_count": 13,
   "id": "e146826d",
   "metadata": {},
   "outputs": [
    {
     "data": {
      "text/plain": [
       "9"
      ]
     },
     "execution_count": 13,
     "metadata": {},
     "output_type": "execute_result"
    }
   ],
   "source": [
    "valor=suma_numeros(4,5)\n",
    "valor"
   ]
  },
  {
   "cell_type": "code",
   "execution_count": 15,
   "id": "cfe7cc0f",
   "metadata": {
    "scrolled": true
   },
   "outputs": [
    {
     "data": {
      "text/plain": [
       "9"
      ]
     },
     "execution_count": 15,
     "metadata": {},
     "output_type": "execute_result"
    }
   ],
   "source": [
    "# También podemos hacer esto\n",
    "resultado = suma_numeros(4,5)\n",
    "resultado"
   ]
  },
  {
   "cell_type": "code",
   "execution_count": null,
   "id": "ba7c0019-6c30-4b01-9c2c-49e579048c5a",
   "metadata": {},
   "outputs": [],
   "source": [
    "hemos guardado el resultado en una variable"
   ]
  },
  {
   "cell_type": "code",
   "execution_count": 16,
   "id": "ebf1a4d4",
   "metadata": {},
   "outputs": [],
   "source": [
    "# ¿Y si le metemos strings a suma_numeros?\n",
    "suma_numeros('uno','dos')"
   ]
  },
  {
   "cell_type": "code",
   "execution_count": 17,
   "id": "745b0d95",
   "metadata": {},
   "outputs": [],
   "source": [
    "suma_numeros('uno',4)"
   ]
  },
  {
   "cell_type": "code",
   "execution_count": null,
   "id": "83c4722e-58ca-4532-85ca-fd6b9f5bf998",
   "metadata": {},
   "outputs": [],
   "source": [
    "no funciona xq no son nuemros enteros"
   ]
  },
  {
   "cell_type": "code",
   "execution_count": 18,
   "id": "f1ff6e83",
   "metadata": {},
   "outputs": [],
   "source": [
    "# Vamos a hacer una función que chequea si un número de una lista es par\n",
    "# Para ello tenemos en cuenta que el módulo de un número par dividido entre 2 es igual a 0.\n",
    "def es_par(lista_numeros):\n",
    "    for numero in lista_numeros:\n",
    "            if numero % 2 == 0:\n",
    "                # si esta condición se cumple con return nos salimos de la lista\n",
    "                return True\n",
    "            else:\n",
    "                pass"
   ]
  },
  {
   "cell_type": "code",
   "execution_count": 19,
   "id": "977bf174",
   "metadata": {},
   "outputs": [
    {
     "data": {
      "text/plain": [
       "True"
      ]
     },
     "execution_count": 19,
     "metadata": {},
     "output_type": "execute_result"
    }
   ],
   "source": [
    "es_par([1,2,3])"
   ]
  },
  {
   "cell_type": "code",
   "execution_count": null,
   "id": "9b67b1f5-e730-4f88-803b-f5f9021503d4",
   "metadata": {},
   "outputs": [],
   "source": [
    "creamos prueba que si en lista es par, si encientra un par para (return true), si no es par pasa al sigueinte numero"
   ]
  },
  {
   "cell_type": "code",
   "execution_count": 20,
   "id": "08813e52",
   "metadata": {},
   "outputs": [],
   "source": [
    "# Sin embargo, si son todos impares no devuelve nada\n",
    "es_par([1,3])"
   ]
  },
  {
   "cell_type": "code",
   "execution_count": null,
   "id": "48f1cbe0-6e87-4028-a2db-9f1cecaddf77",
   "metadata": {},
   "outputs": [],
   "source": [
    "no devuekve nada xq no le hemos dicho nada"
   ]
  },
  {
   "cell_type": "code",
   "execution_count": 21,
   "id": "42ef0372",
   "metadata": {},
   "outputs": [],
   "source": [
    "# Para corregirlo, podemos pensar que si añadirmos un return False, no? ¿Pero qué pasa si lo añadimos?\n",
    "def es_par(lista_numeros):\n",
    "    for numero in lista_numeros:\n",
    "            if numero % 2 == 0:\n",
    "                # si esta condición se cumple con return nos salimos de la lista\n",
    "                return True\n",
    "            else:\n",
    "                return False"
   ]
  },
  {
   "cell_type": "code",
   "execution_count": 22,
   "id": "cf8999f8",
   "metadata": {
    "scrolled": true
   },
   "outputs": [
    {
     "data": {
      "text/plain": [
       "False"
      ]
     },
     "execution_count": 22,
     "metadata": {},
     "output_type": "execute_result"
    }
   ],
   "source": [
    "# Como el primero es impar, sale del bucle y ya no mira nada más\n",
    "es_par([1,2,3])"
   ]
  },
  {
   "cell_type": "code",
   "execution_count": null,
   "id": "adaf302a-43af-46a1-b302-1cd25fe52a34",
   "metadata": {},
   "outputs": [],
   "source": [
    "como el primer numero es impar se sale al primero"
   ]
  },
  {
   "cell_type": "code",
   "execution_count": 23,
   "id": "9d6b233d",
   "metadata": {},
   "outputs": [],
   "source": [
    "# Esta sería una solución correcta\n",
    "def es_par(lista_numeros):\n",
    "    for numero in lista_numeros:\n",
    "            if numero % 2 == 0:\n",
    "                # si esta condición se cumple con return nos salimos de la lista\n",
    "                return True\n",
    "            else:\n",
    "                pass\n",
    "    # Cuando acaba de comprobar TODA la lista ahí sale del bloque\n",
    "    return False"
   ]
  },
  {
   "cell_type": "code",
   "execution_count": null,
   "id": "d4bacf58-8565-4b05-9f8f-55dc41c0ef51",
   "metadata": {},
   "outputs": [],
   "source": [
    "forzamos a ver toda la lista al terminanla"
   ]
  },
  {
   "cell_type": "code",
   "execution_count": 24,
   "id": "606cef62",
   "metadata": {},
   "outputs": [
    {
     "data": {
      "text/plain": [
       "True"
      ]
     },
     "execution_count": 24,
     "metadata": {},
     "output_type": "execute_result"
    }
   ],
   "source": [
    "es_par([1,2,3])"
   ]
  },
  {
   "cell_type": "code",
   "execution_count": 25,
   "id": "cdca8ff7",
   "metadata": {
    "scrolled": true
   },
   "outputs": [
    {
     "data": {
      "text/plain": [
       "False"
      ]
     },
     "execution_count": 25,
     "metadata": {},
     "output_type": "execute_result"
    }
   ],
   "source": [
    "es_par([1,3,7])"
   ]
  },
  {
   "cell_type": "code",
   "execution_count": 26,
   "id": "4a457f82",
   "metadata": {},
   "outputs": [],
   "source": [
    "# Ahora vamos a por un ejemplo un poco más complicado. Queremos que nos devuelva TODOS los numeros pares en un lista. \n",
    "# Si no hay números pares, nos va a devolver la lista vacía\n",
    "def es_par(lista_numeros):\n",
    "    # Creamos una lista vacía\n",
    "    lista_pares = []\n",
    "    # Parseamos cada elemento de nuestro input:\n",
    "    for numero in lista_numeros:\n",
    "        if numero % 2 == 0:\n",
    "            # Si esto es verdad, añadimos nuestro elemento a la lista\n",
    "            lista_pares.append(numero)\n",
    "        else:\n",
    "            pass\n",
    "    return lista_pares"
   ]
  },
  {
   "cell_type": "code",
   "execution_count": 27,
   "id": "640e5c75",
   "metadata": {},
   "outputs": [
    {
     "data": {
      "text/plain": [
       "[2, 4, 6]"
      ]
     },
     "execution_count": 27,
     "metadata": {},
     "output_type": "execute_result"
    }
   ],
   "source": [
    "es_par([1,2,3,4,5,6])"
   ]
  },
  {
   "cell_type": "code",
   "execution_count": 28,
   "id": "18484a02",
   "metadata": {
    "scrolled": true
   },
   "outputs": [
    {
     "data": {
      "text/plain": [
       "[]"
      ]
     },
     "execution_count": 28,
     "metadata": {},
     "output_type": "execute_result"
    }
   ],
   "source": [
    "es_par([1,3,5,7,9])"
   ]
  },
  {
   "cell_type": "code",
   "execution_count": null,
   "id": "9e1c5fe7-83cb-481a-9c68-0056317e7401",
   "metadata": {},
   "outputs": [],
   "source": [
    "le decimos que cree una lista que nos dice los numeros pares, si no es par no añade"
   ]
  },
  {
   "cell_type": "code",
   "execution_count": 1,
   "id": "3ae5f1fb",
   "metadata": {
    "scrolled": true
   },
   "outputs": [
    {
     "data": {
      "text/plain": [
       "[' ', 'O', ' ']"
      ]
     },
     "execution_count": 1,
     "metadata": {},
     "output_type": "execute_result"
    }
   ],
   "source": [
    "# Vamos a crear ahora un pequeño juego. El jugador debe adivinar dónde está la letra \"O\"\n",
    "# Empezamos creando una lista con tres elementos dónde la \"O\" se pone de forma aleatoria\n",
    "from random import shuffle\n",
    "from random import shuffle\n",
    "def desordenar_lista(lista):\n",
    "    shuffle(lista)\n",
    "    return lista\n",
    "\n",
    "desordenar_lista(mi_lista)\n",
    "mi_lista"
   ]
  },
  {
   "cell_type": "code",
   "execution_count": null,
   "id": "4a9b559d-c4f5-4d50-b111-c9a3d554087a",
   "metadata": {},
   "outputs": [],
   "source": [
    "creamos lista vacia excepto la O en alguna posicion, la desordenamos de forma aleatoria, \n",
    "1. desordenar usando random con shufle\n",
    "2. creamos la lista \n",
    "3. creamos funcion desordenar\n",
    "4, la desordenamos y decimos que nos la devuleva desordenada\n"
   ]
  },
  {
   "cell_type": "code",
   "execution_count": 2,
   "id": "a11e5406",
   "metadata": {},
   "outputs": [],
   "source": [
    "# Ahora el jugador tiene que adivinar dónde está. Para ello hacemos una función\n",
    "def adivinacion():\n",
    "    intento = ''\n",
    "    while intento not in ['0','1','2']:\n",
    "        intento = input(\"Esocoje un número: 0, 1, 2: \")\n",
    "    return int(intento)"
   ]
  },
  {
   "cell_type": "code",
   "execution_count": null,
   "id": "a8c6b138",
   "metadata": {},
   "outputs": [],
   "source": [
    "adivinacion()"
   ]
  },
  {
   "cell_type": "code",
   "execution_count": null,
   "id": "3d638efd-1e11-4bb3-9a99-7e7742e40caf",
   "metadata": {},
   "outputs": [],
   "source": [
    "le decimos que la adivide, le decimos posiciones, funcion input d q tiene que poner el usuario, pero tiene q ser 0, 1 o 2\n"
   ]
  },
  {
   "cell_type": "code",
   "execution_count": 33,
   "id": "01ac8460",
   "metadata": {},
   "outputs": [],
   "source": [
    "# Ahora comprobamos el intento\n",
    "def comprobacion(lista,intento):\n",
    "    if lista[intento] == 'O':\n",
    "        print('¡Has acertado!')\n",
    "    else:\n",
    "        print('¡Has fallado! Suerte para la próxima')\n",
    "        print(lista)"
   ]
  },
  {
   "cell_type": "code",
   "execution_count": null,
   "id": "9d6b1e93-18c0-42aa-8edc-b52b9cba16c6",
   "metadata": {},
   "outputs": [],
   "source": [
    "ahora comprobamos que correspone con la posicion , crea funcion comprobacion, añadimos la lista y es intento"
   ]
  },
  {
   "cell_type": "code",
   "execution_count": 36,
   "id": "e3079352",
   "metadata": {
    "scrolled": true
   },
   "outputs": [
    {
     "name": "stdin",
     "output_type": "stream",
     "text": [
      "Esocoje un número: 0, 1, 2:  2\n"
     ]
    },
    {
     "name": "stdout",
     "output_type": "stream",
     "text": [
      "¡Has fallado! Suerte para la próxima\n",
      "[' ', 'O', ' ']\n"
     ]
    }
   ],
   "source": [
    "# Ahora vamos a juntarlo todo\n",
    "mi_lista = [' ','O',' ']\n",
    "lista_desordenada=desordenar_lista(mi_lista)\n",
    "intento = adivinacion()\n",
    "comprobacion(lista_desordenada,intento)\n"
   ]
  },
  {
   "cell_type": "code",
   "execution_count": null,
   "id": "39b28679-e6d6-4616-b8fc-7d07b51fcd8d",
   "metadata": {},
   "outputs": [],
   "source": [
    "llamando a las funciones en orden, lista + intento + comprobar que el usuario a fallado o acertado, "
   ]
  },
  {
   "cell_type": "markdown",
   "id": "92e81fa5",
   "metadata": {},
   "source": [
    "### Ejercicios de Funciones"
   ]
  },
  {
   "cell_type": "markdown",
   "id": "1d4f18ca",
   "metadata": {},
   "source": [
    "#### 1.- El menor de dos pares. Escribe una función que devuelva el menor de dos números, SOLAMENTE si los dos números son pares. En caso de que uno de los dos, o los dos, sean impares, devuelve el número más alto"
   ]
  },
  {
   "cell_type": "code",
   "execution_count": 113,
   "id": "e0fca717-1136-4630-b157-e3f8c4a9a1c9",
   "metadata": {},
   "outputs": [],
   "source": [
    "def menor_pares (a, b):\n",
    "    if a % 2 == 0 and b % 2 == 0:\n",
    "        return min(a, b)\n",
    "    else:\n",
    "        return max(a, b)"
   ]
  },
  {
   "cell_type": "code",
   "execution_count": 40,
   "id": "0bdc16c3-3bab-4bef-ab72-dd2226972f5e",
   "metadata": {},
   "outputs": [
    {
     "data": {
      "text/plain": [
       "2"
      ]
     },
     "execution_count": 40,
     "metadata": {},
     "output_type": "execute_result"
    }
   ],
   "source": [
    "menor_pares(2, 4)"
   ]
  },
  {
   "cell_type": "code",
   "execution_count": 41,
   "id": "b1bae533-b380-465f-b095-8c4ec5e5cbd8",
   "metadata": {},
   "outputs": [
    {
     "data": {
      "text/plain": [
       "6"
      ]
     },
     "execution_count": 41,
     "metadata": {},
     "output_type": "execute_result"
    }
   ],
   "source": [
    "menor_pares(3,6)"
   ]
  },
  {
   "cell_type": "markdown",
   "id": "253087f6",
   "metadata": {},
   "source": [
    "#### 2.- Escribe una función que tome como argumento una string de dos palabras y devuelva True si ambas empiezan por la misma letra"
   ]
  },
  {
   "cell_type": "code",
   "execution_count": 84,
   "id": "591b0887-16f7-4c73-a37f-8c11b6860bcc",
   "metadata": {},
   "outputs": [],
   "source": [
    "def palabras (a1,b1):\n",
    "    if a1[0].lower() == b1[0].lower():\n",
    "        return True\n",
    "    else:\n",
    "        pass"
   ]
  },
  {
   "cell_type": "code",
   "execution_count": 85,
   "id": "20454080-e7b4-463b-9634-96d5bc9f67b1",
   "metadata": {
    "scrolled": true
   },
   "outputs": [
    {
     "data": {
      "text/plain": [
       "True"
      ]
     },
     "execution_count": 85,
     "metadata": {},
     "output_type": "execute_result"
    }
   ],
   "source": [
    "palabras ('Hola', 'hilo')"
   ]
  },
  {
   "cell_type": "code",
   "execution_count": 115,
   "id": "7364a67a-9380-4c58-bb6d-54b3719e7d10",
   "metadata": {},
   "outputs": [],
   "source": [
    "palabras ('jirafa',  'gato')"
   ]
  },
  {
   "cell_type": "code",
   "execution_count": 144,
   "id": "681faa00-9534-48bf-af0a-69ee5f4de388",
   "metadata": {},
   "outputs": [],
   "source": [
    "frase ='algunsa alga' --> corregir NOAH "
   ]
  },
  {
   "cell_type": "code",
   "execution_count": 142,
   "id": "8dacfae5-c75c-4883-9332-6d8db65020e6",
   "metadata": {},
   "outputs": [],
   "source": [
    "def misma_letra (frase):\n",
    "    lista_palabras = frase.split()\n",
    "    if len(lista_palabras) == 2:\n",
    "        if lista_palabras [0][0].lower() == lista_palabras[1][0].lower:\n",
    "            return True\n",
    "        else:\n",
    "            return False\n",
    "    else: print('Solo dos palabras')"
   ]
  },
  {
   "cell_type": "code",
   "execution_count": 145,
   "id": "39b4a45d-915e-4151-ad94-2ada8fe2ad7e",
   "metadata": {},
   "outputs": [
    {
     "data": {
      "text/plain": [
       "False"
      ]
     },
     "execution_count": 145,
     "metadata": {},
     "output_type": "execute_result"
    }
   ],
   "source": [
    "misma_letra(frase)"
   ]
  },
  {
   "cell_type": "markdown",
   "id": "7db0e184",
   "metadata": {},
   "source": [
    "#### 3.- Escribe una función que tome dos números enteros y que devuelva True si la suma de los dos es 20, o si uno de los dos es 20. Que devuelva Falso si no."
   ]
  },
  {
   "cell_type": "code",
   "execution_count": 153,
   "id": "ebbe865b-ea49-433f-90d1-2d3869ea64c9",
   "metadata": {},
   "outputs": [],
   "source": [
    "def veinte (n1,n2):\n",
    "    if type(n1) == int and type(n2) == int:\n",
    "        suma=n1+n2\n",
    "        if n1+n2==20 or (n1 == 20 or n2 == 20):\n",
    "                return True\n",
    "        else:\n",
    "            return False\n"
   ]
  },
  {
   "cell_type": "code",
   "execution_count": 156,
   "id": "12caf300-e93a-486e-9301-e4e7a58df86b",
   "metadata": {
    "scrolled": true
   },
   "outputs": [
    {
     "data": {
      "text/plain": [
       "True"
      ]
     },
     "execution_count": 156,
     "metadata": {},
     "output_type": "execute_result"
    }
   ],
   "source": [
    "veinte (12,8)"
   ]
  },
  {
   "cell_type": "code",
   "execution_count": 155,
   "id": "480d9f68-ae12-4614-b397-32e74529b7a0",
   "metadata": {},
   "outputs": [
    {
     "data": {
      "text/plain": [
       "True"
      ]
     },
     "execution_count": 155,
     "metadata": {},
     "output_type": "execute_result"
    }
   ],
   "source": [
    "veinte (20,1)"
   ]
  },
  {
   "cell_type": "code",
   "execution_count": 154,
   "id": "eca852dc-acf7-4afe-a21f-511709879d7a",
   "metadata": {},
   "outputs": [
    {
     "data": {
      "text/plain": [
       "False"
      ]
     },
     "execution_count": 154,
     "metadata": {},
     "output_type": "execute_result"
    }
   ],
   "source": [
    "veinte (3,5)"
   ]
  },
  {
   "cell_type": "markdown",
   "id": "406eb793",
   "metadata": {},
   "source": [
    "#### 4.- Escribe una función que devuelva en mayúsculas la primera letra y la quinta letra de una palabra. Pista: usa capitalize()"
   ]
  },
  {
   "cell_type": "code",
   "execution_count": 173,
   "id": "d8038470-e6b4-4dbe-bb4c-3800258bed95",
   "metadata": {},
   "outputs": [],
   "source": [
    "def mayus(palabra):\n",
    "    if len(palabra) >= 5:\n",
    "        return palabra[0].capitalize() + palabra[1:4].lower() + palabra[4].capitalize() + palabra[5:].lower()\n",
    "    else:\n",
    "        pass \n"
   ]
  },
  {
   "cell_type": "code",
   "execution_count": 174,
   "id": "3a4d240e-1081-4e4b-8933-13e0f5bb364b",
   "metadata": {},
   "outputs": [
    {
     "data": {
      "text/plain": [
       "'MaquIna'"
      ]
     },
     "execution_count": 174,
     "metadata": {},
     "output_type": "execute_result"
    }
   ],
   "source": [
    "mayus('maquiNa')"
   ]
  },
  {
   "cell_type": "markdown",
   "id": "9f8b992e",
   "metadata": {},
   "source": [
    "#### 5.- Escribe una función que devuelva una frase invertida."
   ]
  },
  {
   "cell_type": "code",
   "execution_count": 2,
   "id": "d02c89da-5d6d-4f32-be36-a924b2beff8a",
   "metadata": {},
   "outputs": [
    {
     "name": "stdout",
     "output_type": "stream",
     "text": [
      "odnum aloH\n"
     ]
    }
   ],
   "source": [
    "def invertir_frase(frase):\n",
    "    return frase[::-1]\n",
    "texto = \"Hola mundo\"\n",
    "resultado = invertir_frase(texto)\n",
    "print(resultado)\n"
   ]
  },
  {
   "cell_type": "code",
   "execution_count": 166,
   "id": "72b35a85-891d-47a1-9830-7e7c0216dc81",
   "metadata": {},
   "outputs": [],
   "source": [
    "    "
   ]
  },
  {
   "cell_type": "markdown",
   "id": "784b3ec2",
   "metadata": {},
   "source": [
    "#### 6.- Dada una lista de enteros, devuelve True si contiene un 3 al lado de otro 3"
   ]
  },
  {
   "cell_type": "code",
   "execution_count": 4,
   "id": "1da7c6dd-a8e9-4a8f-a1b4-007dfb14704f",
   "metadata": {},
   "outputs": [
    {
     "name": "stdout",
     "output_type": "stream",
     "text": [
      "True\n"
     ]
    }
   ],
   "source": [
    "def tiene_33(lista):\n",
    "    for i in range(len(lista) - 1):\n",
    "        if lista[i] == 3 and lista[i + 1] == 3:\n",
    "            return True\n",
    "    return False\n",
    "numeros = [1, 3, 3, 5]\n",
    "print(tiene_33(numeros)) \n"
   ]
  },
  {
   "cell_type": "code",
   "execution_count": null,
   "id": "74646980-3f6d-4d83-baed-d5569ed60b17",
   "metadata": {},
   "outputs": [],
   "source": []
  },
  {
   "cell_type": "markdown",
   "id": "2f3d3dea",
   "metadata": {},
   "source": [
    "#### 7.- Escribe una función que busque numeros primos. "
   ]
  },
  {
   "cell_type": "code",
   "execution_count": 5,
   "id": "9df3310b-e1c6-4aa1-8d47-0e2a1237f886",
   "metadata": {},
   "outputs": [
    {
     "name": "stdout",
     "output_type": "stream",
     "text": [
      "True\n",
      "False\n"
     ]
    }
   ],
   "source": [
    "def es_primo(n):\n",
    "    if n < 2:\n",
    "        return False\n",
    "    for i in range(2, int(n**0.5) + 1):\n",
    "        if n % i == 0:\n",
    "            return False\n",
    "    return True\n",
    "\n",
    "print(es_primo(7))   \n",
    "print(es_primo(10)) "
   ]
  },
  {
   "cell_type": "code",
   "execution_count": null,
   "id": "7dd32111-7c18-4977-94ed-ceb6dc59ddf4",
   "metadata": {},
   "outputs": [],
   "source": []
  },
  {
   "cell_type": "markdown",
   "id": "66eec5ea",
   "metadata": {},
   "source": [
    "#### 8.- Juego de espías. Escribe una función que encuentre la secuencia 007 en una lista"
   ]
  },
  {
   "cell_type": "code",
   "execution_count": 6,
   "id": "4cc4ee29-0ed9-4298-b9d8-33df59511cc1",
   "metadata": {},
   "outputs": [
    {
     "name": "stdout",
     "output_type": "stream",
     "text": [
      "True\n",
      "False\n"
     ]
    }
   ],
   "source": [
    "def espia_007(lista):\n",
    "    codigo = [0, 0, 7]\n",
    "    for num in lista:\n",
    "        if num == codigo[0]:\n",
    "            codigo.pop(0)\n",
    "        if not codigo:\n",
    "            return True\n",
    "    return False\n",
    "\n",
    "print(espia_007([1, 2, 4, 0, 0, 7, 5]))  \n",
    "print(espia_007([1, 7, 2, 0, 4, 5, 0]))  \n"
   ]
  },
  {
   "cell_type": "code",
   "execution_count": null,
   "id": "87abb134-22a2-4442-a67b-e123aa398922",
   "metadata": {},
   "outputs": [],
   "source": []
  },
  {
   "cell_type": "markdown",
   "id": "4e8f6489",
   "metadata": {},
   "source": [
    "#### 9.- Juego de BLACKJACK. Dados tres numeros enteros entre el 1 y el 11, si su suma es menor o igual que 21, devuelve su suma. Si su suma es mayor que 21 y hay un 11, resta 10 al total de la suma. Finalmente, si con el ajuste es mayor que 21, se devuelve BUST.\n",
    "##### 5,6,7 =18\n",
    "##### 9,9,9 = BUST\n",
    "##### 9,9,11 = 19"
   ]
  },
  {
   "cell_type": "code",
   "execution_count": 7,
   "id": "28216c99-b623-4e96-9ab3-59958afa7687",
   "metadata": {},
   "outputs": [
    {
     "name": "stdout",
     "output_type": "stream",
     "text": [
      "18\n",
      "BUST\n",
      "19\n"
     ]
    }
   ],
   "source": [
    "def blackjack(a, b, c):\n",
    "    total = a + b + c\n",
    "    if total <= 21:\n",
    "        return total\n",
    "    elif 11 in (a, b, c) and total - 10 <= 21:\n",
    "        return total - 10\n",
    "    else:\n",
    "        return \"BUST\"\n",
    "print(blackjack(5, 6, 7))   \n",
    "print(blackjack(9, 9, 9))   \n",
    "print(blackjack(9, 9, 11))  \n"
   ]
  },
  {
   "cell_type": "code",
   "execution_count": null,
   "id": "2bc166ac-6205-4d0d-9bdb-e4c65867ab1f",
   "metadata": {},
   "outputs": [],
   "source": []
  }
 ],
 "metadata": {
  "kernelspec": {
   "display_name": "Python [conda env:base] *",
   "language": "python",
   "name": "conda-base-py"
  },
  "language_info": {
   "codemirror_mode": {
    "name": "ipython",
    "version": 3
   },
   "file_extension": ".py",
   "mimetype": "text/x-python",
   "name": "python",
   "nbconvert_exporter": "python",
   "pygments_lexer": "ipython3",
   "version": "3.13.5"
  }
 },
 "nbformat": 4,
 "nbformat_minor": 5
}
