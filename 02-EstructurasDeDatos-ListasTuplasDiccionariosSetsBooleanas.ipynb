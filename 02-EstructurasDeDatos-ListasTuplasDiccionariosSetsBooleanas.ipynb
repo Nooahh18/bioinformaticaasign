{
 "cells": [
  {
   "cell_type": "markdown",
   "id": "1404f345",
   "metadata": {},
   "source": [
    "### LISTAS"
   ]
  },
  {
   "cell_type": "markdown",
   "id": "4e493caa",
   "metadata": {},
   "source": [
    "Las listas son como las strings, secuencias de caracteres PERO a diferencia de ellas, podemos cambiar sus elementos. **Son mutables**"
   ]
  },
  {
   "cell_type": "markdown",
   "id": "5e145c3f",
   "metadata": {},
   "source": [
    "**Van entre corchetes con los elementos separados por comas**"
   ]
  },
  {
   "cell_type": "markdown",
   "id": "7ab6deea",
   "metadata": {},
   "source": [
    "Pueden albergar distintas clases de elementos. Tienen útiles como **append(), pop(), sort(), reverse()**. "
   ]
  },
  {
   "cell_type": "markdown",
   "id": "6106f9f1",
   "metadata": {},
   "source": [
    "Podemos también hacer matrices con ellas uniéndoles entre sí."
   ]
  },
  {
   "cell_type": "markdown",
   "id": "5f8a5b63",
   "metadata": {},
   "source": [
    "También podemos hacer list_comprehensions para crear listas rápidamente (uso de loops)."
   ]
  },
  {
   "cell_type": "code",
   "execution_count": 2,
   "id": "5276d26b",
   "metadata": {},
   "outputs": [],
   "source": [
    "mi_lista = [1,2,3]"
   ]
  },
  {
   "cell_type": "code",
   "execution_count": null,
   "id": "d92b9a76-f28b-408c-b45f-79387b4ee68c",
   "metadata": {},
   "outputs": [],
   "source": [
    "las listas se hacen con corchetes"
   ]
  },
  {
   "cell_type": "code",
   "execution_count": 3,
   "id": "4f828bbc",
   "metadata": {},
   "outputs": [
    {
     "data": {
      "text/plain": [
       "[1, 2, 3]"
      ]
     },
     "execution_count": 3,
     "metadata": {},
     "output_type": "execute_result"
    }
   ],
   "source": [
    "mi_lista"
   ]
  },
  {
   "cell_type": "code",
   "execution_count": 7,
   "id": "cf316093",
   "metadata": {},
   "outputs": [],
   "source": [
    "# Podemos reasignar sus valores\n",
    "mi_lista = ['Una string',23,100.232,'o']"
   ]
  },
  {
   "cell_type": "code",
   "execution_count": null,
   "id": "67d24a0f-bea9-47d8-b4a5-2d804ff49990",
   "metadata": {},
   "outputs": [],
   "source": [
    "se puedne cambiar los valores no como en string,  usar otros caracteres"
   ]
  },
  {
   "cell_type": "code",
   "execution_count": 8,
   "id": "b4fa0a66",
   "metadata": {},
   "outputs": [
    {
     "data": {
      "text/plain": [
       "['Una string', 23, 100.232, 'o']"
      ]
     },
     "execution_count": 8,
     "metadata": {},
     "output_type": "execute_result"
    }
   ],
   "source": [
    "mi_lista"
   ]
  },
  {
   "cell_type": "code",
   "execution_count": 5,
   "id": "84e2e574",
   "metadata": {},
   "outputs": [
    {
     "data": {
      "text/plain": [
       "4"
      ]
     },
     "execution_count": 5,
     "metadata": {},
     "output_type": "execute_result"
    }
   ],
   "source": [
    "# Podemos medir su longitud\n",
    "len(mi_lista)"
   ]
  },
  {
   "cell_type": "code",
   "execution_count": 8,
   "id": "ec50645c",
   "metadata": {},
   "outputs": [
    {
     "data": {
      "text/plain": [
       "'Una string'"
      ]
     },
     "execution_count": 8,
     "metadata": {},
     "output_type": "execute_result"
    }
   ],
   "source": [
    "# Podemos acceder a partes de la lista\n",
    "mi_lista[0]"
   ]
  },
  {
   "cell_type": "code",
   "execution_count": null,
   "id": "3b1e04bf-e0ae-43b2-a0b7-df1085d9dac6",
   "metadata": {},
   "outputs": [],
   "source": [
    "posicion y nos la dice"
   ]
  },
  {
   "cell_type": "code",
   "execution_count": 9,
   "id": "821f27bb",
   "metadata": {},
   "outputs": [
    {
     "data": {
      "text/plain": [
       "[23, 100.232, 'o']"
      ]
     },
     "execution_count": 9,
     "metadata": {},
     "output_type": "execute_result"
    }
   ],
   "source": [
    "mi_lista[1:]"
   ]
  },
  {
   "cell_type": "code",
   "execution_count": 10,
   "id": "bbb6c0d7",
   "metadata": {},
   "outputs": [
    {
     "data": {
      "text/plain": [
       "['Una string', 23, 100.232]"
      ]
     },
     "execution_count": 10,
     "metadata": {},
     "output_type": "execute_result"
    }
   ],
   "source": [
    "mi_lista[:3]"
   ]
  },
  {
   "cell_type": "code",
   "execution_count": 9,
   "id": "1349e092",
   "metadata": {},
   "outputs": [
    {
     "data": {
      "text/plain": [
       "['Una string', 23, 100.232, 'o', 'nuevo']"
      ]
     },
     "execution_count": 9,
     "metadata": {},
     "output_type": "execute_result"
    }
   ],
   "source": [
    "# Podemos añadir nuevos elementos o concatenar\n",
    "mi_lista + ['nuevo']\n"
   ]
  },
  {
   "cell_type": "code",
   "execution_count": 15,
   "id": "8bf7fa87",
   "metadata": {},
   "outputs": [
    {
     "data": {
      "text/plain": [
       "['Una string', 23, 100.232, 'o', 'nuevo elemento', 'nuevo elemento']"
      ]
     },
     "execution_count": 15,
     "metadata": {},
     "output_type": "execute_result"
    }
   ],
   "source": [
    "mi_lista"
   ]
  },
  {
   "cell_type": "code",
   "execution_count": null,
   "id": "dfa130cc-7d7f-488e-9464-004f704bf57a",
   "metadata": {},
   "outputs": [],
   "source": [
    "con el + y el elemento entre corchetes nos lo añade a la lista"
   ]
  },
  {
   "cell_type": "code",
   "execution_count": 1,
   "id": "e7a04266",
   "metadata": {},
   "outputs": [
    {
     "ename": "NameError",
     "evalue": "name 'mi_lista' is not defined",
     "output_type": "error",
     "traceback": [
      "\u001b[1;31m---------------------------------------------------------------------------\u001b[0m",
      "\u001b[1;31mNameError\u001b[0m                                 Traceback (most recent call last)",
      "Cell \u001b[1;32mIn[1], line 1\u001b[0m\n\u001b[1;32m----> 1\u001b[0m mi_lista \u001b[38;5;241m=\u001b[39m mi_lista \u001b[38;5;241m+\u001b[39m [\u001b[38;5;124m'\u001b[39m\u001b[38;5;124mnuevo elemento\u001b[39m\u001b[38;5;124m'\u001b[39m]\n",
      "\u001b[1;31mNameError\u001b[0m: name 'mi_lista' is not defined"
     ]
    }
   ],
   "source": [
    "mi_lista = mi_lista + ['nuevo elemento']"
   ]
  },
  {
   "cell_type": "code",
   "execution_count": 14,
   "id": "c8609ebd",
   "metadata": {
    "scrolled": true
   },
   "outputs": [
    {
     "data": {
      "text/plain": [
       "['Una string', 23, 100.232, 'o', 'nuevo elemento', 'nuevo elemento']"
      ]
     },
     "execution_count": 14,
     "metadata": {},
     "output_type": "execute_result"
    }
   ],
   "source": [
    "mi_lista"
   ]
  },
  {
   "cell_type": "code",
   "execution_count": null,
   "id": "59f2abb5-2ef7-4a94-aba3-b67ff11ec339",
   "metadata": {},
   "outputs": [],
   "source": [
    "hay elementos que se guardan y otros no, hay que aprender cual es cual"
   ]
  },
  {
   "cell_type": "code",
   "execution_count": null,
   "id": "9d92bb05-c7b7-4ebb-8634-e6676d623f1f",
   "metadata": {},
   "outputs": [],
   "source": []
  },
  {
   "cell_type": "code",
   "execution_count": null,
   "id": "c7f57a83",
   "metadata": {},
   "outputs": [],
   "source": [
    "mi_lista.append('otro')"
   ]
  },
  {
   "cell_type": "code",
   "execution_count": null,
   "id": "1ccde63e-a4c9-496c-b851-c212b7f6f6aa",
   "metadata": {},
   "outputs": [],
   "source": [
    "apend funcion añade el elemento al final"
   ]
  },
  {
   "cell_type": "code",
   "execution_count": 16,
   "id": "9d03687d",
   "metadata": {},
   "outputs": [
    {
     "data": {
      "text/plain": [
       "['Una string', 23, 100.232, 'o', 'nuevo elemento', 'nuevo elemento']"
      ]
     },
     "execution_count": 16,
     "metadata": {},
     "output_type": "execute_result"
    }
   ],
   "source": [
    "mi_lista"
   ]
  },
  {
   "cell_type": "code",
   "execution_count": 17,
   "id": "e943b2ba",
   "metadata": {
    "scrolled": true
   },
   "outputs": [
    {
     "data": {
      "text/plain": [
       "['Una string',\n",
       " 23,\n",
       " 100.232,\n",
       " 'o',\n",
       " 'nuevo elemento',\n",
       " 'nuevo elemento',\n",
       " 'Una string',\n",
       " 23,\n",
       " 100.232,\n",
       " 'o',\n",
       " 'nuevo elemento',\n",
       " 'nuevo elemento']"
      ]
     },
     "execution_count": 17,
     "metadata": {},
     "output_type": "execute_result"
    }
   ],
   "source": [
    "# Podemos aumentar su tamaño\n",
    "mi_lista*2"
   ]
  },
  {
   "cell_type": "code",
   "execution_count": 18,
   "id": "c2f381ab",
   "metadata": {},
   "outputs": [],
   "source": [
    "mi_lista_corta=mi_lista[:3]"
   ]
  },
  {
   "cell_type": "code",
   "execution_count": 19,
   "id": "7b15d79c",
   "metadata": {},
   "outputs": [
    {
     "data": {
      "text/plain": [
       "['Una string', 23, 100.232]"
      ]
     },
     "execution_count": 19,
     "metadata": {},
     "output_type": "execute_result"
    }
   ],
   "source": [
    "mi_lista_corta"
   ]
  },
  {
   "cell_type": "code",
   "execution_count": 20,
   "id": "884586cc-9837-4828-83e2-4820b2307d7c",
   "metadata": {},
   "outputs": [
    {
     "ename": "SyntaxError",
     "evalue": "invalid syntax (1620053336.py, line 1)",
     "output_type": "error",
     "traceback": [
      "\u001b[1;36m  Cell \u001b[1;32mIn[20], line 1\u001b[1;36m\u001b[0m\n\u001b[1;33m    sacar trocito de la lista, sacar de una posicion a otra, una sublista, y le damos una variable\u001b[0m\n\u001b[1;37m          ^\u001b[0m\n\u001b[1;31mSyntaxError\u001b[0m\u001b[1;31m:\u001b[0m invalid syntax\n"
     ]
    }
   ],
   "source": [
    "sacar trocito de la lista, sacar de una posicion a otra, una sublista, y le damos una variable"
   ]
  },
  {
   "cell_type": "code",
   "execution_count": null,
   "id": "214f0b35-8899-4261-bab9-35791d744fd9",
   "metadata": {},
   "outputs": [],
   "source": []
  },
  {
   "cell_type": "code",
   "execution_count": 21,
   "id": "98fa16d1",
   "metadata": {},
   "outputs": [
    {
     "data": {
      "text/plain": [
       "['Una string', 23, 100.232, 'o', 'nuevo elemento']"
      ]
     },
     "execution_count": 21,
     "metadata": {},
     "output_type": "execute_result"
    }
   ],
   "source": [
    "# Podemos quitar el último elemento (permanentemente)\n",
    "mi_lista.pop()\n",
    "mi_lista"
   ]
  },
  {
   "cell_type": "code",
   "execution_count": null,
   "id": "2f71afe5-2459-4a15-b258-bf93b5101e89",
   "metadata": {},
   "outputs": [],
   "source": []
  },
  {
   "cell_type": "code",
   "execution_count": 22,
   "id": "5ddbbc44",
   "metadata": {
    "scrolled": true
   },
   "outputs": [
    {
     "data": {
      "text/plain": [
       "['nuevo elemento', 'o', 100.232, 23, 'Una string']"
      ]
     },
     "execution_count": 22,
     "metadata": {},
     "output_type": "execute_result"
    }
   ],
   "source": [
    "# Podemos darle la vuelta a la lista con reverse(). De forma permanente\n",
    "mi_lista.reverse()\n",
    "mi_lista"
   ]
  },
  {
   "cell_type": "code",
   "execution_count": null,
   "id": "a51ed317-b65f-45a2-9d87-c31e1021016b",
   "metadata": {},
   "outputs": [],
   "source": [
    "::-1 tambien le da la vuelta"
   ]
  },
  {
   "cell_type": "code",
   "execution_count": 23,
   "id": "6fc44671",
   "metadata": {
    "scrolled": true
   },
   "outputs": [
    {
     "ename": "TypeError",
     "evalue": "'<' not supported between instances of 'str' and 'int'",
     "output_type": "error",
     "traceback": [
      "\u001b[1;31m---------------------------------------------------------------------------\u001b[0m",
      "\u001b[1;31mTypeError\u001b[0m                                 Traceback (most recent call last)",
      "Cell \u001b[1;32mIn[23], line 3\u001b[0m\n\u001b[0;32m      1\u001b[0m \u001b[38;5;66;03m# Podemos ordenarla una lista alfabéticamente o numéricamente\u001b[39;00m\n\u001b[0;32m      2\u001b[0m prueba \u001b[38;5;241m=\u001b[39m [\u001b[38;5;241m1\u001b[39m,\u001b[38;5;124m'\u001b[39m\u001b[38;5;124ma\u001b[39m\u001b[38;5;124m'\u001b[39m,\u001b[38;5;241m6\u001b[39m,\u001b[38;5;124m'\u001b[39m\u001b[38;5;124mb\u001b[39m\u001b[38;5;124m'\u001b[39m,\u001b[38;5;241m100\u001b[39m]\n\u001b[1;32m----> 3\u001b[0m prueba\u001b[38;5;241m.\u001b[39msort()\n\u001b[0;32m      4\u001b[0m prueba\n",
      "\u001b[1;31mTypeError\u001b[0m: '<' not supported between instances of 'str' and 'int'"
     ]
    }
   ],
   "source": [
    "# Podemos ordenarla una lista alfabéticamente o numéricamente\n",
    "prueba = [1,'a',6,'b',100]\n",
    "prueba.sort()\n",
    "prueba"
   ]
  },
  {
   "cell_type": "code",
   "execution_count": null,
   "id": "42eff1a0-b5c2-41e9-9ef5-a1b7723b906d",
   "metadata": {},
   "outputs": [],
   "source": [
    "sort es ordenadar, toda del mismo tipo"
   ]
  },
  {
   "cell_type": "code",
   "execution_count": 24,
   "id": "8e9a1f58",
   "metadata": {},
   "outputs": [
    {
     "data": {
      "text/plain": [
       "[0, 1, 3, 7, 45]"
      ]
     },
     "execution_count": 24,
     "metadata": {},
     "output_type": "execute_result"
    }
   ],
   "source": [
    "lista_prueba=[3,45,7,1,0]\n",
    "lista_prueba.sort()\n",
    "lista_prueba"
   ]
  },
  {
   "cell_type": "code",
   "execution_count": 25,
   "id": "0d528c48",
   "metadata": {},
   "outputs": [
    {
     "data": {
      "text/plain": [
       "[[1, 2, 3], [4, 5, 6], [7, 8, 9]]"
      ]
     },
     "execution_count": 25,
     "metadata": {},
     "output_type": "execute_result"
    }
   ],
   "source": [
    "# Hacemos una matriz\n",
    "lst_1=[1,2,3]\n",
    "lst_2=[4,5,6]\n",
    "lst_3=[7,8,9]\n",
    "\n",
    "matrix = [lst_1,lst_2,lst_3]\n",
    "matrix"
   ]
  },
  {
   "cell_type": "code",
   "execution_count": null,
   "id": "b30d2b1c-6074-41ad-8cfc-786478ab9682",
   "metadata": {},
   "outputs": [],
   "source": [
    "matrices: conjuntos de listas, los elementos dentro de la sueperlista son listas. "
   ]
  },
  {
   "cell_type": "code",
   "execution_count": 26,
   "id": "98ccf7cb",
   "metadata": {
    "scrolled": true
   },
   "outputs": [
    {
     "data": {
      "text/plain": [
       "8"
      ]
     },
     "execution_count": 26,
     "metadata": {},
     "output_type": "execute_result"
    }
   ],
   "source": [
    "matrix[2][1]"
   ]
  },
  {
   "cell_type": "code",
   "execution_count": null,
   "id": "163270d7-37b6-4a76-8302-eaa9a84db162",
   "metadata": {},
   "outputs": [],
   "source": [
    "acuerdate 0 es 1, 2 es tres..."
   ]
  },
  {
   "cell_type": "code",
   "execution_count": null,
   "id": "18f3a204-8eec-438c-9500-6d36f5e2840c",
   "metadata": {},
   "outputs": [],
   "source": []
  },
  {
   "cell_type": "code",
   "execution_count": 27,
   "id": "055338a0",
   "metadata": {
    "scrolled": true
   },
   "outputs": [
    {
     "data": {
      "text/plain": [
       "[1, 2, 3]"
      ]
     },
     "execution_count": 27,
     "metadata": {},
     "output_type": "execute_result"
    }
   ],
   "source": [
    "matrix[0]"
   ]
  },
  {
   "cell_type": "code",
   "execution_count": null,
   "id": "0fd5bc0e",
   "metadata": {},
   "outputs": [],
   "source": [
    "matrix[0][0]"
   ]
  },
  {
   "cell_type": "code",
   "execution_count": 28,
   "id": "90f839bf",
   "metadata": {
    "collapsed": true,
    "jupyter": {
     "outputs_hidden": true
    }
   },
   "outputs": [
    {
     "data": {
      "text/plain": [
       "[2, 5, 8]"
      ]
     },
     "execution_count": 28,
     "metadata": {},
     "output_type": "execute_result"
    }
   ],
   "source": [
    "# List comprehensions. Aquí lo que estamos haciendo es sacar el primer elemento de matrix\n",
    "first_col = [row[1] for row in matrix]\n",
    "first_col"
   ]
  },
  {
   "cell_type": "code",
   "execution_count": null,
   "id": "3dd49146-5eed-4e7f-b99d-6cc784d4648e",
   "metadata": {},
   "outputs": [],
   "source": [
    "es como un bucle, para cada sublista, sacame el elemento de la posicion 1"
   ]
  },
  {
   "cell_type": "markdown",
   "id": "8d2ed501",
   "metadata": {},
   "source": [
    "### DICCIONARIOS"
   ]
  },
  {
   "cell_type": "markdown",
   "id": "424eddbc",
   "metadata": {},
   "source": [
    "Los diccionarios también se les llama **hash**. Son estructuras que nos permiten almacenar información mediante una **key** y un **valor**."
   ]
  },
  {
   "cell_type": "code",
   "execution_count": null,
   "id": "0b897f48-7da7-4526-ba72-865097ee49f6",
   "metadata": {},
   "outputs": [],
   "source": [
    "diccionaros se llaman hash, stan formados por key y valor"
   ]
  },
  {
   "cell_type": "markdown",
   "id": "46a5a959",
   "metadata": {},
   "source": [
    "**El valor puede ser cualquier objeto de Python, incluso otro diccionario**"
   ]
  },
  {
   "cell_type": "markdown",
   "id": "aefad975",
   "metadata": {},
   "source": [
    "**Las keys tienen que tener un valor único**"
   ]
  },
  {
   "cell_type": "markdown",
   "id": "fcdc0697",
   "metadata": {},
   "source": [
    "Las funciones más empleadas son **keys() y items()**."
   ]
  },
  {
   "cell_type": "code",
   "execution_count": null,
   "id": "bbe480c7-ade6-413d-ad6f-d176814f736f",
   "metadata": {},
   "outputs": [],
   "source": [
    "key son identificadores unicos"
   ]
  },
  {
   "cell_type": "markdown",
   "id": "9e0023ea",
   "metadata": {},
   "source": [
    "**¡No se pueden ordenar diccionarios porque no son secuencias, sino más bien índices!!**"
   ]
  },
  {
   "cell_type": "code",
   "execution_count": 35,
   "id": "86d28803",
   "metadata": {},
   "outputs": [
    {
     "data": {
      "text/plain": [
       "{'key1': 'value1', 'key2': 'value2'}"
      ]
     },
     "execution_count": 35,
     "metadata": {},
     "output_type": "execute_result"
    }
   ],
   "source": [
    "mi_dict = {'key1':'value1','key2':'value2'}\n",
    "mi_dict"
   ]
  },
  {
   "cell_type": "code",
   "execution_count": null,
   "id": "83d61968-b722-444b-bf71-ce7817e22465",
   "metadata": {},
   "outputs": [],
   "source": [
    "los diccionarios son llaves, cda pareja son un, key es el identificador y despues de los dos puntos el significado"
   ]
  },
  {
   "cell_type": "code",
   "execution_count": 37,
   "id": "0a04d862",
   "metadata": {},
   "outputs": [
    {
     "data": {
      "text/plain": [
       "{'key1': 123, 'key2': [12, 23, 33], 'key3': ['item0', 'item1', 'item2']}"
      ]
     },
     "execution_count": 37,
     "metadata": {},
     "output_type": "execute_result"
    }
   ],
   "source": [
    "mi_dict = {'key1':123,'key2':[12,23,33],'key3':['item0','item1','item2']}\n",
    "mi_dict"
   ]
  },
  {
   "cell_type": "code",
   "execution_count": 6,
   "id": "50a5ea0c",
   "metadata": {},
   "outputs": [
    {
     "ename": "NameError",
     "evalue": "name 'mi_dict' is not defined",
     "output_type": "error",
     "traceback": [
      "\u001b[1;31m---------------------------------------------------------------------------\u001b[0m",
      "\u001b[1;31mNameError\u001b[0m                                 Traceback (most recent call last)",
      "Cell \u001b[1;32mIn[6], line 2\u001b[0m\n\u001b[0;32m      1\u001b[0m \u001b[38;5;66;03m# Vamos a acceder a los elementos de un diccionario\u001b[39;00m\n\u001b[1;32m----> 2\u001b[0m mi_dict[\u001b[38;5;124m'\u001b[39m\u001b[38;5;124mkey3\u001b[39m\u001b[38;5;124m'\u001b[39m]\n",
      "\u001b[1;31mNameError\u001b[0m: name 'mi_dict' is not defined"
     ]
    }
   ],
   "source": [
    "# Vamos a acceder a los elementos de un diccionario\n",
    "mi_dict['key3']"
   ]
  },
  {
   "cell_type": "code",
   "execution_count": null,
   "id": "39e72040-3896-447d-863c-4d20a11ca59b",
   "metadata": {},
   "outputs": [],
   "source": [
    "con la posicion no funciona"
   ]
  },
  {
   "cell_type": "code",
   "execution_count": 39,
   "id": "68a6cb3b",
   "metadata": {},
   "outputs": [
    {
     "data": {
      "text/plain": [
       "'item0'"
      ]
     },
     "execution_count": 39,
     "metadata": {},
     "output_type": "execute_result"
    }
   ],
   "source": [
    "mi_dict['key3'][0]"
   ]
  },
  {
   "cell_type": "code",
   "execution_count": 40,
   "id": "384b0572",
   "metadata": {},
   "outputs": [
    {
     "data": {
      "text/plain": [
       "'ITEM0'"
      ]
     },
     "execution_count": 40,
     "metadata": {},
     "output_type": "execute_result"
    }
   ],
   "source": [
    "# Podemos incluso llamar a funciones sobre esos valores\n",
    "mi_dict['key3'][0].upper()"
   ]
  },
  {
   "cell_type": "code",
   "execution_count": null,
   "id": "c45efc6c-67b4-40ac-ba8c-19702711373a",
   "metadata": {},
   "outputs": [],
   "source": [
    "reasignacion guardado el valor"
   ]
  },
  {
   "cell_type": "code",
   "execution_count": 3,
   "id": "0a655db1",
   "metadata": {},
   "outputs": [
    {
     "ename": "NameError",
     "evalue": "name 'mi_dict' is not defined",
     "output_type": "error",
     "traceback": [
      "\u001b[1;31m---------------------------------------------------------------------------\u001b[0m",
      "\u001b[1;31mNameError\u001b[0m                                 Traceback (most recent call last)",
      "Cell \u001b[1;32mIn[3], line 1\u001b[0m\n\u001b[1;32m----> 1\u001b[0m mi_dict\n",
      "\u001b[1;31mNameError\u001b[0m: name 'mi_dict' is not defined"
     ]
    }
   ],
   "source": [
    "mi_dict"
   ]
  },
  {
   "cell_type": "code",
   "execution_count": 2,
   "id": "def55b91",
   "metadata": {},
   "outputs": [
    {
     "ename": "NameError",
     "evalue": "name 'mi_dict' is not defined",
     "output_type": "error",
     "traceback": [
      "\u001b[1;31m---------------------------------------------------------------------------\u001b[0m",
      "\u001b[1;31mNameError\u001b[0m                                 Traceback (most recent call last)",
      "Cell \u001b[1;32mIn[2], line 2\u001b[0m\n\u001b[0;32m      1\u001b[0m \u001b[38;5;66;03m# Podemos cambiar los valores de las keys\u001b[39;00m\n\u001b[1;32m----> 2\u001b[0m mi_dict[\u001b[38;5;124m'\u001b[39m\u001b[38;5;124mkey1\u001b[39m\u001b[38;5;124m'\u001b[39m] \u001b[38;5;241m=\u001b[39m mi_dict[\u001b[38;5;124m'\u001b[39m\u001b[38;5;124mkey1\u001b[39m\u001b[38;5;124m'\u001b[39m] \u001b[38;5;241m-\u001b[39m \u001b[38;5;241m123\u001b[39m\n\u001b[0;32m      3\u001b[0m mi_dict\n",
      "\u001b[1;31mNameError\u001b[0m: name 'mi_dict' is not defined"
     ]
    }
   ],
   "source": [
    "# Podemos cambiar los valores de las keys\n",
    "mi_dict['key1'] = mi_dict['key1'] - 123\n",
    "mi_dict"
   ]
  },
  {
   "cell_type": "code",
   "execution_count": 42,
   "id": "7e0b3214",
   "metadata": {},
   "outputs": [
    {
     "data": {
      "text/plain": [
       "246"
      ]
     },
     "execution_count": 42,
     "metadata": {},
     "output_type": "execute_result"
    }
   ],
   "source": [
    "mi_dict['key1'] += 123\n",
    "mi_dict['key1']"
   ]
  },
  {
   "cell_type": "code",
   "execution_count": 44,
   "id": "8def95ee",
   "metadata": {},
   "outputs": [
    {
     "data": {
      "text/plain": [
       "{'key1': 123, 'key2': [12, 23, 33], 'key3': ['item0', 'item1', 'item2']}"
      ]
     },
     "execution_count": 44,
     "metadata": {},
     "output_type": "execute_result"
    }
   ],
   "source": [
    "mi_dict"
   ]
  },
  {
   "cell_type": "code",
   "execution_count": 45,
   "id": "7727d9f4",
   "metadata": {},
   "outputs": [
    {
     "data": {
      "text/plain": [
       "{'animal': 'Perro', 'respuesta': 42}"
      ]
     },
     "execution_count": 45,
     "metadata": {},
     "output_type": "execute_result"
    }
   ],
   "source": [
    "# Podemos crear nuevas keys\n",
    "d = {}\n",
    "d['animal'] = 'Perro'\n",
    "d['respuesta'] = 42\n",
    "d"
   ]
  },
  {
   "cell_type": "code",
   "execution_count": null,
   "id": "b51eba6b-a51f-479b-8336-453b13d3bc40",
   "metadata": {},
   "outputs": [],
   "source": [
    "diccionario vacio, "
   ]
  },
  {
   "cell_type": "code",
   "execution_count": 46,
   "id": "34886b71",
   "metadata": {},
   "outputs": [
    {
     "data": {
      "text/plain": [
       "{'animal': 'Perro', 'respuesta': 42}"
      ]
     },
     "execution_count": 46,
     "metadata": {},
     "output_type": "execute_result"
    }
   ],
   "source": [
    "d"
   ]
  },
  {
   "cell_type": "code",
   "execution_count": 47,
   "id": "ee0d09ca",
   "metadata": {},
   "outputs": [
    {
     "data": {
      "text/plain": [
       "'Perro'"
      ]
     },
     "execution_count": 47,
     "metadata": {},
     "output_type": "execute_result"
    }
   ],
   "source": [
    "d['animal']"
   ]
  },
  {
   "cell_type": "code",
   "execution_count": 50,
   "id": "0ac4a9b9",
   "metadata": {
    "scrolled": true
   },
   "outputs": [
    {
     "data": {
      "text/plain": [
       "{'animal': 'Perro',\n",
       " 'respuesta': 42,\n",
       " 'nestedKey': {'key1': 123,\n",
       "  'key2': [12, 23, 33],\n",
       "  'key3': ['item0', 'item1', 'item2']}}"
      ]
     },
     "execution_count": 50,
     "metadata": {},
     "output_type": "execute_result"
    }
   ],
   "source": [
    "# Podemos meter un diccionario dentro de otro\n",
    "d['nestedKey']=mi_dict\n",
    "d"
   ]
  },
  {
   "cell_type": "code",
   "execution_count": null,
   "id": "7f81e857-e370-4f80-b675-4f48c244c03f",
   "metadata": {},
   "outputs": [],
   "source": [
    "meter dentro de otro diccionario"
   ]
  },
  {
   "cell_type": "code",
   "execution_count": 49,
   "id": "cfdb0445",
   "metadata": {},
   "outputs": [
    {
     "data": {
      "text/plain": [
       "'item2'"
      ]
     },
     "execution_count": 49,
     "metadata": {},
     "output_type": "execute_result"
    }
   ],
   "source": [
    "d['nestedKey']['key3'][2]"
   ]
  },
  {
   "cell_type": "code",
   "execution_count": 51,
   "id": "93957064",
   "metadata": {},
   "outputs": [
    {
     "data": {
      "text/plain": [
       "dict_keys(['animal', 'respuesta', 'nestedKey'])"
      ]
     },
     "execution_count": 51,
     "metadata": {},
     "output_type": "execute_result"
    }
   ],
   "source": [
    "# Podemos devolver todas las keys\n",
    "d.keys()"
   ]
  },
  {
   "cell_type": "code",
   "execution_count": null,
   "id": "c3e9adee-6fba-42d1-9cd6-d1927d2aeb0f",
   "metadata": {},
   "outputs": [],
   "source": [
    "nos saca todos los identofocadores"
   ]
  },
  {
   "cell_type": "code",
   "execution_count": 52,
   "id": "5428c32f",
   "metadata": {},
   "outputs": [
    {
     "data": {
      "text/plain": [
       "dict_items([('animal', 'Perro'), ('respuesta', 42), ('nestedKey', {'key1': 123, 'key2': [12, 23, 33], 'key3': ['item0', 'item1', 'item2']})])"
      ]
     },
     "execution_count": 52,
     "metadata": {},
     "output_type": "execute_result"
    }
   ],
   "source": [
    "# Podemos devolver todos los valores (como tuplas, ¡ya lo veremos!)\n",
    "d.items()"
   ]
  },
  {
   "cell_type": "markdown",
   "id": "31eb8900",
   "metadata": {},
   "source": [
    "### TUPLAS"
   ]
  },
  {
   "cell_type": "markdown",
   "id": "9c3fb87a",
   "metadata": {},
   "source": [
    "Son como las listas pero **INMUTABLES**. En lugar de corchetes llevan paréntesis."
   ]
  },
  {
   "cell_type": "code",
   "execution_count": null,
   "id": "12b436c7-68a9-4437-aff2-f5fedb3074c9",
   "metadata": {},
   "outputs": [],
   "source": [
    "solo en casos muy especiales, donde o queremos que no cambie nunca son como las listas pero en vez de corchetes parentesis"
   ]
  },
  {
   "cell_type": "markdown",
   "id": "875b17ef",
   "metadata": {},
   "source": [
    "Podemos usar las funciones **index() y count()**."
   ]
  },
  {
   "cell_type": "markdown",
   "id": "561cb9c8",
   "metadata": {},
   "source": [
    "Se usan cuando queremos crear un objeto que NO pueda ser cambiado."
   ]
  },
  {
   "cell_type": "code",
   "execution_count": 5,
   "id": "61e43a7d",
   "metadata": {},
   "outputs": [
    {
     "data": {
      "text/plain": [
       "3"
      ]
     },
     "execution_count": 5,
     "metadata": {},
     "output_type": "execute_result"
    }
   ],
   "source": [
    "t = (1,2,3)\n",
    "len(t)"
   ]
  },
  {
   "cell_type": "code",
   "execution_count": 54,
   "id": "f4623896",
   "metadata": {},
   "outputs": [
    {
     "data": {
      "text/plain": [
       "tuple"
      ]
     },
     "execution_count": 54,
     "metadata": {},
     "output_type": "execute_result"
    }
   ],
   "source": [
    "type(t)"
   ]
  },
  {
   "cell_type": "code",
   "execution_count": 55,
   "id": "928ab1b3",
   "metadata": {
    "scrolled": true
   },
   "outputs": [
    {
     "data": {
      "text/plain": [
       "('uno', 2)"
      ]
     },
     "execution_count": 55,
     "metadata": {},
     "output_type": "execute_result"
    }
   ],
   "source": [
    "# Las tuplas pueden tener elementos de distinto tipo\n",
    "t = ('uno',2)\n",
    "t"
   ]
  },
  {
   "cell_type": "code",
   "execution_count": null,
   "id": "04491e96-3122-4618-95d3-d930e41c2179",
   "metadata": {},
   "outputs": [],
   "source": [
    "elementos diferentes pero inmutables"
   ]
  },
  {
   "cell_type": "code",
   "execution_count": 56,
   "id": "81f37776",
   "metadata": {},
   "outputs": [
    {
     "data": {
      "text/plain": [
       "'uno'"
      ]
     },
     "execution_count": 56,
     "metadata": {},
     "output_type": "execute_result"
    }
   ],
   "source": [
    "# Podemos acceder a sus elementos pero no cambiarlos\n",
    "t[0]"
   ]
  },
  {
   "cell_type": "code",
   "execution_count": 58,
   "id": "cc2f3e6e",
   "metadata": {},
   "outputs": [
    {
     "ename": "TypeError",
     "evalue": "'tuple' object does not support item assignment",
     "output_type": "error",
     "traceback": [
      "\u001b[1;31m---------------------------------------------------------------------------\u001b[0m",
      "\u001b[1;31mTypeError\u001b[0m                                 Traceback (most recent call last)",
      "Cell \u001b[1;32mIn[58], line 1\u001b[0m\n\u001b[1;32m----> 1\u001b[0m t[\u001b[38;5;241m0\u001b[39m]\u001b[38;5;241m=\u001b[39m\u001b[38;5;241m0\u001b[39m\n",
      "\u001b[1;31mTypeError\u001b[0m: 'tuple' object does not support item assignment"
     ]
    }
   ],
   "source": [
    "t[0]=0"
   ]
  },
  {
   "cell_type": "code",
   "execution_count": 57,
   "id": "aceaf44b",
   "metadata": {},
   "outputs": [
    {
     "data": {
      "text/plain": [
       "2"
      ]
     },
     "execution_count": 57,
     "metadata": {},
     "output_type": "execute_result"
    }
   ],
   "source": [
    "t[-1]"
   ]
  },
  {
   "cell_type": "code",
   "execution_count": 59,
   "id": "2a1a79f8",
   "metadata": {},
   "outputs": [
    {
     "data": {
      "text/plain": [
       "0"
      ]
     },
     "execution_count": 59,
     "metadata": {},
     "output_type": "execute_result"
    }
   ],
   "source": [
    "# Usamos index() para retornar el valor de un índice\n",
    "t.index('uno')"
   ]
  },
  {
   "cell_type": "code",
   "execution_count": null,
   "id": "13061881-2e1c-460d-b289-601024b81803",
   "metadata": {},
   "outputs": [],
   "source": [
    "poenmos nombre del elemento y nos da la posicion"
   ]
  },
  {
   "cell_type": "code",
   "execution_count": 60,
   "id": "848bd0b6",
   "metadata": {},
   "outputs": [
    {
     "data": {
      "text/plain": [
       "1"
      ]
     },
     "execution_count": 60,
     "metadata": {},
     "output_type": "execute_result"
    }
   ],
   "source": [
    "# También podemos contar el número de veces que aparece un item en la tupla\n",
    "t.count('uno')"
   ]
  },
  {
   "cell_type": "code",
   "execution_count": null,
   "id": "4d7aaf21-76b6-414e-9e13-62e23e6d3a67",
   "metadata": {},
   "outputs": [],
   "source": [
    "contra todas las x de una secuencia"
   ]
  },
  {
   "cell_type": "code",
   "execution_count": 61,
   "id": "a1841190",
   "metadata": {},
   "outputs": [
    {
     "ename": "AttributeError",
     "evalue": "'tuple' object has no attribute 'append'",
     "output_type": "error",
     "traceback": [
      "\u001b[1;31m---------------------------------------------------------------------------\u001b[0m",
      "\u001b[1;31mAttributeError\u001b[0m                            Traceback (most recent call last)",
      "Cell \u001b[1;32mIn[61], line 2\u001b[0m\n\u001b[0;32m      1\u001b[0m \u001b[38;5;66;03m# Las tuplas tampoco pueden crecer\u001b[39;00m\n\u001b[1;32m----> 2\u001b[0m t\u001b[38;5;241m.\u001b[39mappend(\u001b[38;5;124m'\u001b[39m\u001b[38;5;124mtres\u001b[39m\u001b[38;5;124m'\u001b[39m)\n",
      "\u001b[1;31mAttributeError\u001b[0m: 'tuple' object has no attribute 'append'"
     ]
    }
   ],
   "source": [
    "# Las tuplas tampoco pueden crecer\n",
    "t.append('tres')"
   ]
  },
  {
   "cell_type": "code",
   "execution_count": null,
   "id": "5cf43327-5bec-443e-8598-af2842327f4d",
   "metadata": {},
   "outputs": [],
   "source": [
    "tampoco pueden crecer"
   ]
  },
  {
   "cell_type": "markdown",
   "id": "ae64057a",
   "metadata": {},
   "source": [
    "### SETS"
   ]
  },
  {
   "cell_type": "markdown",
   "id": "6f5c60e6",
   "metadata": {},
   "source": [
    "Colección ordenada de elementos **ÚNICOS**. Los construimos con la función **set()**."
   ]
  },
  {
   "cell_type": "code",
   "execution_count": null,
   "id": "72fdd5f8-fe5f-443b-a442-053ed254fc02",
   "metadata": {},
   "outputs": [],
   "source": [
    "colecicon ordenada de elementos unicos. para quitar duplicados, solo tenemos unicos"
   ]
  },
  {
   "cell_type": "markdown",
   "id": "cfce1694",
   "metadata": {},
   "source": [
    "Podemos añadir elementos con la función **add()**."
   ]
  },
  {
   "cell_type": "markdown",
   "id": "c89c5539",
   "metadata": {},
   "source": [
    "Los usamos cuando queremos eliminar duplicados y tener solamente elementos únicos, como las keys de un diccionario."
   ]
  },
  {
   "cell_type": "code",
   "execution_count": 62,
   "id": "c61ed16c",
   "metadata": {},
   "outputs": [
    {
     "data": {
      "text/plain": [
       "set"
      ]
     },
     "execution_count": 62,
     "metadata": {},
     "output_type": "execute_result"
    }
   ],
   "source": [
    "x = set()\n",
    "type(x)"
   ]
  },
  {
   "cell_type": "code",
   "execution_count": null,
   "id": "21968219-2203-4850-b849-ecf00c275a19",
   "metadata": {},
   "outputs": [],
   "source": [
    "añadimos elemento con add"
   ]
  },
  {
   "cell_type": "code",
   "execution_count": 63,
   "id": "9d0fa6cd",
   "metadata": {},
   "outputs": [
    {
     "data": {
      "text/plain": [
       "{1}"
      ]
     },
     "execution_count": 63,
     "metadata": {},
     "output_type": "execute_result"
    }
   ],
   "source": [
    "# Añadimos elementos con .add(). ¡Fíjate en los corchetes!!!! Como las keys de los diccionarios\n",
    "x.add(1)\n",
    "x"
   ]
  },
  {
   "cell_type": "code",
   "execution_count": 64,
   "id": "2e8c5ea5",
   "metadata": {},
   "outputs": [
    {
     "data": {
      "text/plain": [
       "{1, 2}"
      ]
     },
     "execution_count": 64,
     "metadata": {},
     "output_type": "execute_result"
    }
   ],
   "source": [
    "x.add(2)\n",
    "x"
   ]
  },
  {
   "cell_type": "code",
   "execution_count": 65,
   "id": "1f41ae77",
   "metadata": {},
   "outputs": [
    {
     "data": {
      "text/plain": [
       "{1, 2}"
      ]
     },
     "execution_count": 65,
     "metadata": {},
     "output_type": "execute_result"
    }
   ],
   "source": [
    "# No nos deja añadir duplicados\n",
    "x.add(1)\n",
    "x"
   ]
  },
  {
   "cell_type": "code",
   "execution_count": 66,
   "id": "f64ab7d4",
   "metadata": {},
   "outputs": [
    {
     "data": {
      "text/plain": [
       "{1, 2, 3, 4, 5, 6}"
      ]
     },
     "execution_count": 66,
     "metadata": {},
     "output_type": "execute_result"
    }
   ],
   "source": [
    "# Fíjate que nos elimina los duplicados!\n",
    "list1 = [1,1,2,2,3,4,5,6,1,1]\n",
    "set(list1)"
   ]
  },
  {
   "cell_type": "code",
   "execution_count": null,
   "id": "3b3e48b2-d6bf-4e94-a51f-9aae58fb4206",
   "metadata": {},
   "outputs": [],
   "source": [
    "sets se definen con llaves"
   ]
  },
  {
   "cell_type": "markdown",
   "id": "7a976d68",
   "metadata": {},
   "source": [
    "### BOOLEANS"
   ]
  },
  {
   "cell_type": "markdown",
   "id": "41482559",
   "metadata": {},
   "source": [
    "Elementos de verdadero o falso. TRUE, FALSE, NONE, AND, OR. >= <= == != < >"
   ]
  },
  {
   "cell_type": "code",
   "execution_count": null,
   "id": "d08f6a17-beee-4230-96e3-1fa48851d2b2",
   "metadata": {},
   "outputs": [],
   "source": [
    "elementos que dan verdadero o falso"
   ]
  },
  {
   "cell_type": "code",
   "execution_count": 67,
   "id": "2a1a0475",
   "metadata": {},
   "outputs": [
    {
     "data": {
      "text/plain": [
       "bool"
      ]
     },
     "execution_count": 67,
     "metadata": {},
     "output_type": "execute_result"
    }
   ],
   "source": [
    "a = True\n",
    "type(a)"
   ]
  },
  {
   "cell_type": "code",
   "execution_count": null,
   "id": "fd440021-d384-4343-b86c-2a9d5c0b73d2",
   "metadata": {},
   "outputs": [],
   "source": [
    "true es un valor de phyton, bool es para hacer una condcion, si esto es verdadero has esto..."
   ]
  },
  {
   "cell_type": "code",
   "execution_count": 68,
   "id": "dc0f90b3",
   "metadata": {},
   "outputs": [
    {
     "data": {
      "text/plain": [
       "True"
      ]
     },
     "execution_count": 68,
     "metadata": {},
     "output_type": "execute_result"
    }
   ],
   "source": [
    "# Aquí la salida sería el booleano\n",
    "1<2"
   ]
  },
  {
   "cell_type": "code",
   "execution_count": 69,
   "id": "443b4c35-8367-496a-85fb-a155760a132f",
   "metadata": {},
   "outputs": [
    {
     "data": {
      "text/plain": [
       "False"
      ]
     },
     "execution_count": 69,
     "metadata": {},
     "output_type": "execute_result"
    }
   ],
   "source": [
    "2<1"
   ]
  },
  {
   "cell_type": "code",
   "execution_count": null,
   "id": "745e0c24",
   "metadata": {},
   "outputs": [],
   "source": [
    "# None nos sirve para no assignar un tipo de objeto\n",
    "b = None\n",
    "type(b)"
   ]
  },
  {
   "cell_type": "code",
   "execution_count": null,
   "id": "06308bdc-f4f5-4760-8f23-b475e812f350",
   "metadata": {},
   "outputs": [],
   "source": [
    "none se queda sin tipo, se queda en la nada (casos especiales)"
   ]
  },
  {
   "cell_type": "code",
   "execution_count": 70,
   "id": "05df477a",
   "metadata": {},
   "outputs": [
    {
     "data": {
      "text/plain": [
       "True"
      ]
     },
     "execution_count": 70,
     "metadata": {},
     "output_type": "execute_result"
    }
   ],
   "source": [
    "# Comparaciones igualdad\n",
    "2==2"
   ]
  },
  {
   "cell_type": "code",
   "execution_count": null,
   "id": "d77a6525-15d9-47a6-95a3-a3c4cc6079c4",
   "metadata": {},
   "outputs": [],
   "source": [
    "uno es asigancion dos es comparacion de igualdad"
   ]
  },
  {
   "cell_type": "code",
   "execution_count": 71,
   "id": "5a7aa696",
   "metadata": {},
   "outputs": [
    {
     "data": {
      "text/plain": [
       "False"
      ]
     },
     "execution_count": 71,
     "metadata": {},
     "output_type": "execute_result"
    }
   ],
   "source": [
    "1==0"
   ]
  },
  {
   "cell_type": "code",
   "execution_count": 72,
   "id": "7cc86b98",
   "metadata": {},
   "outputs": [
    {
     "data": {
      "text/plain": [
       "True"
      ]
     },
     "execution_count": 72,
     "metadata": {},
     "output_type": "execute_result"
    }
   ],
   "source": [
    "# No igualdad\n",
    "2 != 1"
   ]
  },
  {
   "cell_type": "code",
   "execution_count": 73,
   "id": "86dc2765",
   "metadata": {},
   "outputs": [
    {
     "data": {
      "text/plain": [
       "True"
      ]
     },
     "execution_count": 73,
     "metadata": {},
     "output_type": "execute_result"
    }
   ],
   "source": [
    "# Mayor o menor que\n",
    "2<4"
   ]
  },
  {
   "cell_type": "code",
   "execution_count": 74,
   "id": "9539d9f4",
   "metadata": {},
   "outputs": [
    {
     "data": {
      "text/plain": [
       "True"
      ]
     },
     "execution_count": 74,
     "metadata": {},
     "output_type": "execute_result"
    }
   ],
   "source": [
    "# Mayor o menor o igual que\n",
    "2 <= 2"
   ]
  },
  {
   "cell_type": "code",
   "execution_count": 75,
   "id": "bd32fbb2",
   "metadata": {},
   "outputs": [
    {
     "data": {
      "text/plain": [
       "False"
      ]
     },
     "execution_count": 75,
     "metadata": {},
     "output_type": "execute_result"
    }
   ],
   "source": [
    "# También podemos encadenar operadores de comparación\n",
    "3 < 2 < 4"
   ]
  },
  {
   "cell_type": "code",
   "execution_count": 76,
   "id": "5d1e88e2",
   "metadata": {},
   "outputs": [
    {
     "data": {
      "text/plain": [
       "True"
      ]
     },
     "execution_count": 76,
     "metadata": {},
     "output_type": "execute_result"
    }
   ],
   "source": [
    "# O podemos usar AND\n",
    "1<2 and 2<3"
   ]
  },
  {
   "cell_type": "code",
   "execution_count": null,
   "id": "7197667f-36e4-49db-b59c-877f6cbfc9d9",
   "metadata": {},
   "outputs": [],
   "source": [
    "nos obliga a que las dos se cumplan"
   ]
  },
  {
   "cell_type": "code",
   "execution_count": 77,
   "id": "babd1b8f",
   "metadata": {},
   "outputs": [
    {
     "data": {
      "text/plain": [
       "True"
      ]
     },
     "execution_count": 77,
     "metadata": {},
     "output_type": "execute_result"
    }
   ],
   "source": [
    "# También podemos usar OR\n",
    "1 == 2 or 2 <3"
   ]
  },
  {
   "cell_type": "code",
   "execution_count": null,
   "id": "6f8e3362-9587-4e5c-838c-c6adef1b1ec3",
   "metadata": {},
   "outputs": [],
   "source": [
    "con que se cumpla una basta"
   ]
  }
 ],
 "metadata": {
  "kernelspec": {
   "display_name": "Python [conda env:base] *",
   "language": "python",
   "name": "conda-base-py"
  },
  "language_info": {
   "codemirror_mode": {
    "name": "ipython",
    "version": 3
   },
   "file_extension": ".py",
   "mimetype": "text/x-python",
   "name": "python",
   "nbconvert_exporter": "python",
   "pygments_lexer": "ipython3",
   "version": "3.13.5"
  }
 },
 "nbformat": 4,
 "nbformat_minor": 5
}
