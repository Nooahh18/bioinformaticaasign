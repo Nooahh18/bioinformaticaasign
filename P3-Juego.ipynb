{
 "cells": [
  {
   "cell_type": "markdown",
   "id": "e87fdfc4",
   "metadata": {},
   "source": [
    "# PRACTICA 3\n",
    "\n",
    "\n",
    "## JUEGO DE ADIVINANZAS\n",
    "\n",
    "#### Escribe un programa que coja un número entero del 1 al 100, y los jugadores tienen que tratar de adivinar el número.\n",
    "\n",
    "#### Las reglas son las siguientes:\n",
    "\n",
    "1. Si un jugador escoje un número menor que 1 o mayor que 100, el programa dice \"FUERA DE LÍMITES\"\n",
    "2. En el primer turno del jugador, si está en un rango de 10 del número dice \"¡CALIENTE!\". Si está fuera de ese rango dice \"¡FRIO!\"\n",
    "3. En todas las rondas siguientes, si el jugador se acerca más que la vez anterior, dice \"¡MAS CALIENTE!\". Si está más lejos que la anterior vez dice \"¡MAS FRIO!\"\n",
    "4. Cuando el jugador acierte el número, les dirá que han acertado y cuántos intentos les ha llevado\n",
    "\n",
    "\n",
    "\n"
   ]
  },
  {
   "cell_type": "markdown",
   "id": "1ea418c3",
   "metadata": {},
   "source": [
    "##### PISTAS\n",
    "1. Trata obtener un número aleatorio entre el 1 y el 100\n",
    "2. Haz una introducción de tu juego y explica las reglas\n",
    "3. Crea una lista que almacene los intentos. \n",
    "4. Haz un bucle que evalúe un número. Prueba que funcione primero. While podría ir bien\n",
    "5. Modifica ese bucle para que compare nuestro número con el intento. Si se acierta usa break, si no puedes usar continue y tienes que seguir preguntando al jugador por nuevos intentos"
   ]
  },
  {
   "cell_type": "code",
   "execution_count": 9,
   "id": "849fb574-7c4e-4fd6-8a78-cc74216f39db",
   "metadata": {},
   "outputs": [],
   "source": [
    "def adivinacion():\n",
    "    print(\"Bienvenido al juego\")\n",
    "    print(\"Adivida un numero del 1 al 100\")\n",
    "    print(\"Reglas:\")\n",
    "    print(\"Escribeme un numero del 1 al 100\")\n",
    "    print(\"si estás a 10 de distancia estas: caliente. Si estas más lejos: frío\")\n",
    "    print(\"Sigue intentandolo - si te acercas estas más caliente, si te alejas más frio\")\n",
    "    print(\"- El juego termina cuando adivines el número./n\")"
   ]
  },
  {
   "cell_type": "code",
   "execution_count": 10,
   "id": "67a3b04c-b7f1-47ac-9f6b-184457bc625d",
   "metadata": {},
   "outputs": [
    {
     "name": "stdout",
     "output_type": "stream",
     "text": [
      "45\n"
     ]
    }
   ],
   "source": [
    "import random\n",
    "aleatorio = random.randint(1,100)\n",
    "print (aleatorio)"
   ]
  },
  {
   "cell_type": "code",
   "execution_count": null,
   "id": "44226c93-bd1e-4cb4-9618-751fd767caea",
   "metadata": {},
   "outputs": [
    {
     "name": "stdout",
     "output_type": "stream",
     "text": [
      "Bienvenido al juego\n",
      "Adivida un numero del 1 al 100\n",
      "Reglas:\n",
      "Escribeme un numero del 1 al 100\n",
      "si estás a 10 de distancia estas: caliente. Si estas más lejos: frío\n",
      "Sigue intentandolo - si te acercas estas más caliente, si te alejas más frio\n",
      "- El juego termina cuando adivines el número.\n",
      "\n"
     ]
    },
    {
     "name": "stdin",
     "output_type": "stream",
     "text": [
      "Escribe un número del 1 al 100:  11,4\n"
     ]
    },
    {
     "name": "stdout",
     "output_type": "stream",
     "text": [
      "Eso no es un número entero válido.\n"
     ]
    },
    {
     "name": "stdin",
     "output_type": "stream",
     "text": [
      "Escribe un número del 1 al 100:  11\n"
     ]
    },
    {
     "name": "stdout",
     "output_type": "stream",
     "text": [
      "Estas frio\n"
     ]
    }
   ],
   "source": [
    "import random\n",
    "\n",
    "def adivinacion():\n",
    "    print(\"Bienvenido al juego\")\n",
    "    print(\"Adivida un numero del 1 al 100\")\n",
    "    print(\"Reglas:\")\n",
    "    print(\"Escribeme un numero del 1 al 100\")\n",
    "    print(\"si estás a 10 de distancia estas: caliente. Si estas más lejos: frío\")\n",
    "    print(\"Sigue intentandolo - si te acercas estas más caliente, si te alejas más frio\")\n",
    "    print(\"- El juego termina cuando adivines el número.\\n\")\n",
    "\n",
    "    aleatorio = random.randint(1, 100)\n",
    "    intentos = []\n",
    "#creamos un bucle del juego y le pedimos que nos ponga un numero\n",
    "#convertimos el numero en enterp y si no es un numero le pedimos que nos ponga un numero\n",
    "    while True: \n",
    "        intento_texto = input('Escribe un número del 1 al 100: ')\n",
    "        try:\n",
    "            intento = int(intento_texto)\n",
    "        except:\n",
    "            print(\"Eso no es un número entero válido.\")\n",
    "            continue\n",
    "#si el numero que pone es mayor a 100 o menos a 1 le decimos que esta fuera de limites\n",
    "        if intento < 1 or intento > 100:\n",
    "            print('Fuera de limites')\n",
    "            continue\n",
    "#tenemos una lista y cada vez que falla nos suma el intento a esa lista para saber el numero de intentes que ha tenido\n",
    "        intentos.append(intento)\n",
    "#si hacierta el numero, nos dice el numero de intentos y termina el bucle\n",
    "        if intento == aleatorio:\n",
    "            print('¡Es correcto!')\n",
    "            print(f\"{len(intentos)} intentos\")\n",
    "            break\n",
    "#si en el primer intento esta mas cerca de 10 dice caliente, si esta mas lejos dice estas frio\n",
    "#si estamos es algun intento que no es el primero, si estas mas cerca que el anterior estas caliente, si estas mas lejos estas frio\n",
    "        if len(intentos) == 1:\n",
    "            if abs(aleatorio - intento) <= 10:\n",
    "                print('Estas caliente')\n",
    "            else:\n",
    "                print('Estas frio')\n",
    "        else:\n",
    "            if abs(aleatorio - intento) < abs(aleatorio - intentos[-2]):\n",
    "                print('mas caliente')\n",
    "            else:\n",
    "                print('mas frio')\n",
    "#empezar el juego (no hay tildes porque asi se podia poner una comilla)\n",
    "adivinacion()\n"
   ]
  },
  {
   "cell_type": "code",
   "execution_count": null,
   "id": "6f058a46-80cd-42c6-a2e4-948fbe44f735",
   "metadata": {},
   "outputs": [],
   "source": []
  }
 ],
 "metadata": {
  "kernelspec": {
   "display_name": "Python [conda env:base] *",
   "language": "python",
   "name": "conda-base-py"
  },
  "language_info": {
   "codemirror_mode": {
    "name": "ipython",
    "version": 3
   },
   "file_extension": ".py",
   "mimetype": "text/x-python",
   "name": "python",
   "nbconvert_exporter": "python",
   "pygments_lexer": "ipython3",
   "version": "3.13.5"
  }
 },
 "nbformat": 4,
 "nbformat_minor": 5
}
