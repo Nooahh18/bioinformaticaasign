{
 "cells": [
  {
   "cell_type": "markdown",
   "id": "9e009697",
   "metadata": {},
   "source": [
    "###  IF, ELIF, ELSE"
   ]
  },
  {
   "cell_type": "code",
   "execution_count": null,
   "id": "50b7a8f1-81b3-4a6c-8a9e-88904d7fb296",
   "metadata": {},
   "outputs": [],
   "source": [
    "Ogual en todos los lenguajes, cambia solo como se escribe"
   ]
  },
  {
   "cell_type": "code",
   "execution_count": 1,
   "id": "933a0413",
   "metadata": {},
   "outputs": [
    {
     "name": "stdout",
     "output_type": "stream",
     "text": [
      "It was true!\n"
     ]
    }
   ],
   "source": [
    "# Ten cuidado con las identaciones!!!!\n",
    "if True:\n",
    "        print('It was true!')"
   ]
  },
  {
   "cell_type": "code",
   "execution_count": null,
   "id": "3cc43fec-4461-4fce-a343-4512d5e5f855",
   "metadata": {},
   "outputs": [],
   "source": [
    "True siempre existe por eso se imprime, si se cambia a false no imprime"
   ]
  },
  {
   "cell_type": "code",
   "execution_count": 2,
   "id": "36ed752a",
   "metadata": {},
   "outputs": [
    {
     "name": "stdout",
     "output_type": "stream",
     "text": [
      "hola\n"
     ]
    }
   ],
   "source": [
    "if True:\n",
    "    print(\"hola\")"
   ]
  },
  {
   "cell_type": "code",
   "execution_count": 3,
   "id": "2ae90f74",
   "metadata": {
    "scrolled": true
   },
   "outputs": [
    {
     "name": "stdout",
     "output_type": "stream",
     "text": [
      "I will be printed in any case where x is not true\n"
     ]
    }
   ],
   "source": [
    "x = False\n",
    "\n",
    "if x:\n",
    "        print('x was True!')\n",
    "else:\n",
    "        print('I will be printed in any case where x is not true')"
   ]
  },
  {
   "cell_type": "code",
   "execution_count": null,
   "id": "e7911c48-85ff-4721-84d9-92ff98f3d2cd",
   "metadata": {},
   "outputs": [],
   "source": [
    "si le doy un valor de falso a la varia (si x existe), como x es falso (no existe) nos imprime la otra\n"
   ]
  },
  {
   "cell_type": "code",
   "execution_count": 4,
   "id": "eeff67ea",
   "metadata": {
    "scrolled": true
   },
   "outputs": [
    {
     "name": "stdout",
     "output_type": "stream",
     "text": [
      "Welcome to the Auto Shop!\n"
     ]
    }
   ],
   "source": [
    "loc = 'Auto Shop'\n",
    "\n",
    "if loc == 'Auto Shop':\n",
    "    print('Welcome to the Auto Shop!')\n",
    "elif loc == 'Bank':\n",
    "    print('Welcome to the bank!')\n",
    "elif loc == 'gato':\n",
    "    print('hola')\n",
    "else:\n",
    "    print('Where are you?')"
   ]
  },
  {
   "cell_type": "code",
   "execution_count": null,
   "id": "f7f1d13c-8a44-434d-bb43-854a6ff610c9",
   "metadata": {},
   "outputs": [],
   "source": [
    "if y elif para cosas concretas, y else todo lo demas\n"
   ]
  },
  {
   "cell_type": "code",
   "execution_count": 5,
   "id": "9578d0b2",
   "metadata": {},
   "outputs": [
    {
     "name": "stdout",
     "output_type": "stream",
     "text": [
      "Welcome Sammy!\n"
     ]
    }
   ],
   "source": [
    "person = 45\n",
    "\n",
    "if person <= 50 and person >= 1:\n",
    "    print('Welcome Sammy!')\n",
    "else:\n",
    "    print(\"Welcome, what's your name?\")"
   ]
  },
  {
   "cell_type": "code",
   "execution_count": null,
   "id": "191466b3-8360-40d5-b865-3d68780df2a0",
   "metadata": {},
   "outputs": [],
   "source": [
    "se pueden usar mayor y menor como condiciones para cumplir, como el or. Se acaba en dos puntos detras del uno. Poner indeltacion (tabuladores) para ejecutar"
   ]
  },
  {
   "cell_type": "code",
   "execution_count": 6,
   "id": "7328736a",
   "metadata": {},
   "outputs": [
    {
     "name": "stdout",
     "output_type": "stream",
     "text": [
      "Welcome George!\n"
     ]
    }
   ],
   "source": [
    "person = 'George'\n",
    "\n",
    "if person == 'Sammy':\n",
    "    print('Welcome Sammy!')\n",
    "elif person =='George':\n",
    "    print('Welcome George!')\n",
    "else:\n",
    "    print(\"Welcome, what's your name?\")"
   ]
  },
  {
   "cell_type": "code",
   "execution_count": null,
   "id": "6e3cf24f-7c98-4af6-95d6-bd0595b097c6",
   "metadata": {},
   "outputs": [],
   "source": [
    "igual con nombres, simepre un if (siempre el primero), muvhos elif y else para lo que no esta definido"
   ]
  },
  {
   "cell_type": "markdown",
   "id": "44a9c158",
   "metadata": {},
   "source": [
    "### FOR LOOPS"
   ]
  },
  {
   "cell_type": "code",
   "execution_count": 7,
   "id": "76c4dab2",
   "metadata": {
    "scrolled": true
   },
   "outputs": [
    {
     "name": "stdout",
     "output_type": "stream",
     "text": [
      "1\n",
      "2\n",
      "3\n",
      "4\n",
      "5\n",
      "6\n",
      "7\n",
      "8\n",
      "9\n",
      "10\n"
     ]
    }
   ],
   "source": [
    "list1 = [1,2,3,4,5,6,7,8,9,10]\n",
    "for elemento in list1:\n",
    "    print(elemento)"
   ]
  },
  {
   "cell_type": "code",
   "execution_count": null,
   "id": "5fd924ce-178f-4498-b551-6928961925d1",
   "metadata": {},
   "outputs": [],
   "source": [
    "Bucles for. Para cada elemento de esta lista impirmir elemento. imprimir los elementos de la lista (sin saber qu elementos...)"
   ]
  },
  {
   "cell_type": "code",
   "execution_count": 8,
   "id": "b30ecf80",
   "metadata": {},
   "outputs": [
    {
     "ename": "NameError",
     "evalue": "name 'num' is not defined",
     "output_type": "error",
     "traceback": [
      "\u001b[1;31m---------------------------------------------------------------------------\u001b[0m",
      "\u001b[1;31mNameError\u001b[0m                                 Traceback (most recent call last)",
      "Cell \u001b[1;32mIn[8], line 1\u001b[0m\n\u001b[1;32m----> 1\u001b[0m num\n",
      "\u001b[1;31mNameError\u001b[0m: name 'num' is not defined"
     ]
    }
   ],
   "source": [
    "num"
   ]
  },
  {
   "cell_type": "code",
   "execution_count": 9,
   "id": "8980618d",
   "metadata": {
    "scrolled": true
   },
   "outputs": [
    {
     "name": "stdout",
     "output_type": "stream",
     "text": [
      "2\n",
      "4\n",
      "6\n",
      "8\n",
      "10\n"
     ]
    }
   ],
   "source": [
    "# Solo ponemos los pares\n",
    "for num in list1:\n",
    "    if num % 2 == 0:\n",
    "        print(num)"
   ]
  },
  {
   "cell_type": "code",
   "execution_count": 10,
   "id": "97bb99a2-1acb-46bb-9181-f1652ef1fe41",
   "metadata": {},
   "outputs": [
    {
     "ename": "SyntaxError",
     "evalue": "invalid syntax (2136305888.py, line 1)",
     "output_type": "error",
     "traceback": [
      "\u001b[1;36m  Cell \u001b[1;32mIn[10], line 1\u001b[1;36m\u001b[0m\n\u001b[1;33m    Ej para sacar pares, evaluar si la division el resto es 0 quiere decir que es par. saber e que\u001b[0m\n\u001b[1;37m       ^\u001b[0m\n\u001b[1;31mSyntaxError\u001b[0m\u001b[1;31m:\u001b[0m invalid syntax\n"
     ]
    }
   ],
   "source": [
    "Ej para sacar pares, evaluar si la division el resto es 0 quiere decir que es par. saber e que"
   ]
  },
  {
   "cell_type": "code",
   "execution_count": 11,
   "id": "2e69b73d",
   "metadata": {},
   "outputs": [
    {
     "name": "stdout",
     "output_type": "stream",
     "text": [
      "Odd number\n",
      "2\n",
      "Odd number\n",
      "4\n",
      "Odd number\n",
      "6\n",
      "Odd number\n",
      "8\n",
      "Odd number\n",
      "10\n"
     ]
    }
   ],
   "source": [
    "for num in list1:\n",
    "    if num % 2 == 0:\n",
    "        print(num)\n",
    "    else:\n",
    "        print('Odd number')"
   ]
  },
  {
   "cell_type": "code",
   "execution_count": null,
   "id": "67333530-49c0-412a-b89f-c1a6b96c9889",
   "metadata": {},
   "outputs": [],
   "source": [
    "imprime los pares y si es impar di odd number (else para resto)"
   ]
  },
  {
   "cell_type": "code",
   "execution_count": 12,
   "id": "2cacced6",
   "metadata": {},
   "outputs": [
    {
     "name": "stdout",
     "output_type": "stream",
     "text": [
      "55\n"
     ]
    }
   ],
   "source": [
    "# Este bucle suma los elmentos de la lista\n",
    "# Comienza la suma en 0\n",
    "list_sum = 0 \n",
    "\n",
    "for num in list1:\n",
    "    list_sum += num\n",
    "\n",
    "print(list_sum)"
   ]
  },
  {
   "cell_type": "code",
   "execution_count": null,
   "id": "cd5225b9-0d33-4552-8d15-e429673dd924",
   "metadata": {},
   "outputs": [],
   "source": [
    "suma todos los elementos de la lista (list_sum) es la variable vacia, como 0 para iniciar la ejecucion "
   ]
  },
  {
   "cell_type": "code",
   "execution_count": 13,
   "id": "f20da9ab",
   "metadata": {},
   "outputs": [
    {
     "data": {
      "text/plain": [
       "[1, 2, 3, 4, 5, 6, 7, 8, 9, 10]"
      ]
     },
     "execution_count": 13,
     "metadata": {},
     "output_type": "execute_result"
    }
   ],
   "source": [
    "list1"
   ]
  },
  {
   "cell_type": "code",
   "execution_count": null,
   "id": "1b0ae574-4a27-4a3b-8753-8c662a2a49d7",
   "metadata": {},
   "outputs": [],
   "source": []
  },
  {
   "cell_type": "code",
   "execution_count": 14,
   "id": "a3a98420",
   "metadata": {},
   "outputs": [
    {
     "name": "stdout",
     "output_type": "stream",
     "text": [
      "55\n"
     ]
    }
   ],
   "source": [
    "# Una variación\n",
    "list_sum = 0 \n",
    "\n",
    "for num in list1:\n",
    "    list_sum += num\n",
    "\n",
    "print(list_sum)"
   ]
  },
  {
   "cell_type": "code",
   "execution_count": 15,
   "id": "40dcacc4",
   "metadata": {},
   "outputs": [
    {
     "name": "stdout",
     "output_type": "stream",
     "text": [
      "T\n",
      "h\n",
      "i\n",
      "s\n",
      " \n",
      "i\n",
      "s\n",
      " \n",
      "a\n",
      " \n",
      "s\n",
      "t\n",
      "r\n",
      "i\n",
      "n\n",
      "g\n",
      ".\n"
     ]
    }
   ],
   "source": [
    "# También podemos iterar strings\n",
    "for letter in 'This is a string.':\n",
    "    print(letter)"
   ]
  },
  {
   "cell_type": "code",
   "execution_count": null,
   "id": "6448528c-61aa-42a5-a26f-4355501cbba5",
   "metadata": {},
   "outputs": [],
   "source": [
    "Imprimir caracteres de una cadena de texto. guardar cadena en una variavle y llamar a ka variable"
   ]
  },
  {
   "cell_type": "code",
   "execution_count": 16,
   "id": "5c51317e",
   "metadata": {},
   "outputs": [
    {
     "name": "stdout",
     "output_type": "stream",
     "text": [
      "1\n",
      "2\n",
      "3\n",
      "4\n",
      "5\n"
     ]
    }
   ],
   "source": [
    "# También iteramos tuplas\n",
    "tup = (1,2,3,4,5)\n",
    "\n",
    "for t in tup:\n",
    "    print(t)"
   ]
  },
  {
   "cell_type": "code",
   "execution_count": null,
   "id": "aeeeed82-2753-4b40-8ad3-b3e06088da1c",
   "metadata": {},
   "outputs": [],
   "source": [
    "igual que en las listas\n"
   ]
  },
  {
   "cell_type": "code",
   "execution_count": 17,
   "id": "d9ea64bc",
   "metadata": {},
   "outputs": [
    {
     "name": "stdout",
     "output_type": "stream",
     "text": [
      "(2, 4)\n",
      "(6, 8)\n",
      "(10, 12)\n"
     ]
    }
   ],
   "source": [
    "# ¿Y si tenemos tuplas dentro de listas?\n",
    "list2 = [(2,4),(6,8),(10,12)]\n",
    "for tup in list2:\n",
    "    print(tup)"
   ]
  },
  {
   "cell_type": "code",
   "execution_count": null,
   "id": "a72f1859-2ebe-4b24-a01f-5057e10233ce",
   "metadata": {},
   "outputs": [],
   "source": [
    "llamar los elemenyos"
   ]
  },
  {
   "cell_type": "code",
   "execution_count": 18,
   "id": "eea3fc08",
   "metadata": {},
   "outputs": [
    {
     "name": "stdout",
     "output_type": "stream",
     "text": [
      "2\n",
      "6\n",
      "10\n"
     ]
    }
   ],
   "source": [
    "# Aquí desglosamos cada tupla\n",
    "for (t1,t2) in list2:\n",
    "    print(t1)"
   ]
  },
  {
   "cell_type": "code",
   "execution_count": null,
   "id": "d04fa7c6-93fc-49fa-9ede-cdc5150a0fda",
   "metadata": {},
   "outputs": [],
   "source": [
    "solo funcionan si son de la misma longutud"
   ]
  },
  {
   "cell_type": "code",
   "execution_count": 19,
   "id": "f2796ecf",
   "metadata": {
    "scrolled": true
   },
   "outputs": [
    {
     "name": "stdout",
     "output_type": "stream",
     "text": [
      "k1\n",
      "k2\n",
      "k3\n"
     ]
    }
   ],
   "source": [
    "# Ahora vamos a por los diccionarios\n",
    "d = {'k1':1,'k2':2,'k3':3}\n",
    "for item in d:\n",
    "    print(item)"
   ]
  },
  {
   "cell_type": "code",
   "execution_count": null,
   "id": "4f85ac8a-a557-41ea-a1f1-fa4baf79cfa5",
   "metadata": {},
   "outputs": [],
   "source": [
    "solo para las llaves"
   ]
  },
  {
   "cell_type": "code",
   "execution_count": 20,
   "id": "6c4f4196",
   "metadata": {
    "scrolled": true
   },
   "outputs": [
    {
     "name": "stdout",
     "output_type": "stream",
     "text": [
      "k1\n",
      "1\n",
      "k2\n",
      "2\n",
      "k3\n",
      "3\n"
     ]
    }
   ],
   "source": [
    "# Fíjate que en el anterior solamente nos muestra las keys, pero nosotros también queremos ver los valores\n",
    "for k,i in d.items():\n",
    "        print(k)\n",
    "        print(i)"
   ]
  },
  {
   "cell_type": "code",
   "execution_count": null,
   "id": "07538175-06cc-42be-8571-704ea6decf90",
   "metadata": {},
   "outputs": [],
   "source": [
    "Si queremos los valores se tiene que hacer con items, y con "
   ]
  },
  {
   "cell_type": "code",
   "execution_count": 21,
   "id": "cd237b8d",
   "metadata": {
    "scrolled": true
   },
   "outputs": [
    {
     "data": {
      "text/plain": [
       "['k1', 'k2', 'k3']"
      ]
     },
     "execution_count": 21,
     "metadata": {},
     "output_type": "execute_result"
    }
   ],
   "source": [
    "# Como dato curioso, podemos obtener una lista de las keys o de los items de esta forma\n",
    "list(d.keys())"
   ]
  },
  {
   "cell_type": "code",
   "execution_count": null,
   "id": "34022cce-55c0-4584-bd6b-7aa971648888",
   "metadata": {},
   "outputs": [],
   "source": [
    "solo llaves"
   ]
  },
  {
   "cell_type": "code",
   "execution_count": 22,
   "id": "e727b98f",
   "metadata": {},
   "outputs": [
    {
     "data": {
      "text/plain": [
       "[1, 2, 3]"
      ]
     },
     "execution_count": 22,
     "metadata": {},
     "output_type": "execute_result"
    }
   ],
   "source": [
    "# También podemos ordenar los valores del diccionario!!!! Pero no dentro del diccionario, si no fuera de él.\n",
    "# Recuerda que los diccionarios son desordenados en sí mismos de forma arbitraria\n",
    "sorted(d.values())"
   ]
  },
  {
   "cell_type": "code",
   "execution_count": null,
   "id": "a7f620ee-a398-4e25-9210-78e1e575d66a",
   "metadata": {},
   "outputs": [],
   "source": [
    "solo valores sin las llaves\n"
   ]
  },
  {
   "cell_type": "markdown",
   "id": "422c283b",
   "metadata": {},
   "source": [
    "### WHILE LOOPS"
   ]
  },
  {
   "cell_type": "code",
   "execution_count": 23,
   "id": "29508f8b",
   "metadata": {
    "scrolled": true
   },
   "outputs": [
    {
     "name": "stdout",
     "output_type": "stream",
     "text": [
      "x is currently:  0\n",
      " x is still less than 10, adding 1 to x\n",
      "x is currently:  1\n",
      " x is still less than 10, adding 1 to x\n",
      "x is currently:  2\n",
      " x is still less than 10, adding 1 to x\n",
      "x is currently:  3\n",
      " x is still less than 10, adding 1 to x\n",
      "x is currently:  4\n",
      " x is still less than 10, adding 1 to x\n",
      "x is currently:  5\n",
      " x is still less than 10, adding 1 to x\n",
      "x is currently:  6\n",
      " x is still less than 10, adding 1 to x\n",
      "x is currently:  7\n",
      " x is still less than 10, adding 1 to x\n",
      "x is currently:  8\n",
      " x is still less than 10, adding 1 to x\n",
      "x is currently:  9\n",
      " x is still less than 10, adding 1 to x\n"
     ]
    }
   ],
   "source": [
    "x = 0\n",
    "\n",
    "while x < 10:\n",
    "    print('x is currently: ',x)\n",
    "    print(' x is still less than 10, adding 1 to x')\n",
    "    x+=1"
   ]
  },
  {
   "cell_type": "code",
   "execution_count": null,
   "id": "8aaebbfd-a905-439c-b422-88d41189c644",
   "metadata": {},
   "outputs": [],
   "source": [
    "Se ejecutan siempre que se cumpla una condicion "
   ]
  },
  {
   "cell_type": "code",
   "execution_count": 24,
   "id": "a1f59c70",
   "metadata": {
    "scrolled": true
   },
   "outputs": [
    {
     "name": "stdout",
     "output_type": "stream",
     "text": [
      "x is currently:  0\n",
      " x is still less than 10, adding 1 to x\n",
      "x is currently:  1\n",
      " x is still less than 10, adding 1 to x\n",
      "x is currently:  2\n",
      " x is still less than 10, adding 1 to x\n",
      "x is currently:  3\n",
      " x is still less than 10, adding 1 to x\n",
      "x is currently:  4\n",
      " x is still less than 10, adding 1 to x\n",
      "x is currently:  5\n",
      " x is still less than 10, adding 1 to x\n",
      "x is currently:  6\n",
      " x is still less than 10, adding 1 to x\n",
      "x is currently:  7\n",
      " x is still less than 10, adding 1 to x\n",
      "x is currently:  8\n",
      " x is still less than 10, adding 1 to x\n",
      "x is currently:  9\n",
      " x is still less than 10, adding 1 to x\n",
      "All Done!\n"
     ]
    }
   ],
   "source": [
    "x = 0\n",
    "\n",
    "while x < 10:\n",
    "    print('x is currently: ',x)\n",
    "    print(' x is still less than 10, adding 1 to x')\n",
    "    x+=1\n",
    "    \n",
    "else:\n",
    "    print('All Done!')"
   ]
  },
  {
   "cell_type": "code",
   "execution_count": null,
   "id": "8ccfc0cf-01b0-4c7f-8a2b-6a43da449328",
   "metadata": {},
   "outputs": [],
   "source": [
    "else, al no tener la ocondicion, no se ejecuta añadir algo al final (con el else)\n"
   ]
  },
  {
   "cell_type": "markdown",
   "id": "57b1f1b4",
   "metadata": {},
   "source": [
    "### BREAK, CONTINUE, PASS"
   ]
  },
  {
   "cell_type": "code",
   "execution_count": null,
   "id": "bbff6989-bb74-44e0-a6df-0eaad13bbf8f",
   "metadata": {},
   "outputs": [],
   "source": [
    "Break: sale del buclecmas inemdiato. Continue vuelve al iniicio del bucle. Pass no hace ninguna accion\n"
   ]
  },
  {
   "cell_type": "code",
   "execution_count": 26,
   "id": "0181abc0",
   "metadata": {},
   "outputs": [
    {
     "name": "stdout",
     "output_type": "stream",
     "text": [
      "x is currently:  0\n",
      " x is still less than 10, adding 1 to x\n",
      "continuing...\n",
      "x is currently:  1\n",
      " x is still less than 10, adding 1 to x\n",
      "continuing...\n",
      "x is currently:  2\n",
      " x is still less than 10, adding 1 to x\n",
      "x==3\n",
      "x is currently:  3\n",
      " x is still less than 10, adding 1 to x\n",
      "continuing...\n",
      "x is currently:  4\n",
      " x is still less than 10, adding 1 to x\n",
      "continuing...\n",
      "x is currently:  5\n",
      " x is still less than 10, adding 1 to x\n",
      "continuing...\n",
      "x is currently:  6\n",
      " x is still less than 10, adding 1 to x\n",
      "continuing...\n",
      "x is currently:  7\n",
      " x is still less than 10, adding 1 to x\n",
      "continuing...\n",
      "x is currently:  8\n",
      " x is still less than 10, adding 1 to x\n",
      "continuing...\n",
      "x is currently:  9\n",
      " x is still less than 10, adding 1 to x\n",
      "continuing...\n"
     ]
    }
   ],
   "source": [
    "x = 0\n",
    "\n",
    "while x < 10:\n",
    "    print('x is currently: ',x)\n",
    "    print(' x is still less than 10, adding 1 to x')\n",
    "    x+=1\n",
    "    if x==3:\n",
    "        print('x==3')\n",
    "    else:\n",
    "        print('continuing...')\n",
    "        continue"
   ]
  },
  {
   "cell_type": "code",
   "execution_count": 27,
   "id": "bb916abb",
   "metadata": {
    "scrolled": true
   },
   "outputs": [
    {
     "name": "stdout",
     "output_type": "stream",
     "text": [
      "x is currently:  0\n",
      " x is still less than 10, adding 1 to x\n",
      "continuing...\n",
      "x is currently:  1\n",
      " x is still less than 10, adding 1 to x\n",
      "continuing...\n",
      "x is currently:  2\n",
      " x is still less than 10, adding 1 to x\n",
      "Breaking because x==3\n"
     ]
    }
   ],
   "source": [
    "x = 0\n",
    "\n",
    "while x < 10:\n",
    "    print('x is currently: ',x)\n",
    "    print(' x is still less than 10, adding 1 to x')\n",
    "    x+=1\n",
    "    if x==3:\n",
    "        print('Breaking because x==3')\n",
    "        break\n",
    "    else:\n",
    "        print('continuing...')\n",
    "        continue"
   ]
  },
  {
   "cell_type": "code",
   "execution_count": null,
   "id": "ad5d6cf3-c4f1-41f7-bd5a-26d1442cfe7b",
   "metadata": {},
   "outputs": [],
   "source": [
    "Break gana si es 3 salte, si no es 3 continua"
   ]
  },
  {
   "cell_type": "code",
   "execution_count": 29,
   "id": "d8e6e480",
   "metadata": {},
   "outputs": [
    {
     "name": "stdout",
     "output_type": "stream",
     "text": [
      "['huevo', 'pan', 'leche', 'azucar', 'cafe', 'nutella', 'tomate']\n",
      "['huevo', 'pan', 'leche', 'azucar', 'cafe', 'nutella', 'tomate', 'tomate']\n",
      "['huevo', 'pan', 'leche', 'azucar', 'cafe', 'nutella', 'tomate', 'tomate', 'tomate']\n",
      "['huevo', 'pan', 'leche', 'azucar', 'cafe', 'nutella', 'tomate', 'tomate', 'tomate', 'tomate']\n",
      "['huevo', 'pan', 'leche', 'azucar', 'cafe', 'nutella', 'tomate', 'tomate', 'tomate', 'tomate', 'tomate']\n",
      "['huevo', 'pan', 'leche', 'azucar', 'cafe', 'nutella', 'tomate', 'tomate', 'tomate', 'tomate', 'tomate', 'tomate']\n",
      "['huevo', 'pan', 'leche', 'azucar', 'cafe', 'nutella', 'tomate', 'tomate', 'tomate', 'tomate', 'tomate', 'tomate', 'tomate']\n"
     ]
    }
   ],
   "source": [
    "lista_prueba = ['huevo','pan','leche','azucar','cafe','nutella']\n",
    "\n",
    "#count = 0\n",
    "\n",
    "#for i in lista_prueba:\n",
    "#    print(i)\n",
    "#    count += 1\n",
    "#    print(count)\n",
    "    \n",
    "#print(f'Este es el valor final del contador {count}')\n",
    "\n",
    "condicion = True\n",
    "count2 = 0\n",
    "while condicion:\n",
    "    lista_prueba.append('tomate')\n",
    "    print(lista_prueba)\n",
    "    count2 += 1\n",
    "    if count2 == 7:\n",
    "        condicion=False\n"
   ]
  },
  {
   "cell_type": "code",
   "execution_count": null,
   "id": "844d4eff-9002-46cf-adfe-498673cd6c8d",
   "metadata": {},
   "outputs": [],
   "source": [
    "condicon es verdadero, mas un contador. Mientras sea verdadero se añade tomate, le sumamos uno al contador, cunaod la ocndicion llegue a 7 es falso"
   ]
  },
  {
   "cell_type": "markdown",
   "id": "693b98ef",
   "metadata": {},
   "source": [
    "### Range"
   ]
  },
  {
   "cell_type": "code",
   "execution_count": 30,
   "id": "fa5e431d",
   "metadata": {},
   "outputs": [
    {
     "data": {
      "text/plain": [
       "[0, 1, 2, 3, 4, 5, 6, 7, 8, 9, 10]"
      ]
     },
     "execution_count": 30,
     "metadata": {},
     "output_type": "execute_result"
    }
   ],
   "source": [
    "# Genera una lista muy rápida de números enteros.\n",
    "# Range() tiene tres argumentos, el inicio, el final y el paso. Fíjate en los índices del final\n",
    "list(range(0,11))"
   ]
  },
  {
   "cell_type": "code",
   "execution_count": null,
   "id": "e8f0b3c8-0692-4b3f-bbda-b3693b966f13",
   "metadata": {},
   "outputs": [],
   "source": [
    "range crea lista de numeros enteros, hay que saber el inicio, el final y el salto, el ultimo no esta incluido, si la queremos hasta el 10 ponemos 11"
   ]
  },
  {
   "cell_type": "code",
   "execution_count": 31,
   "id": "fd654932",
   "metadata": {
    "scrolled": true
   },
   "outputs": [
    {
     "data": {
      "text/plain": [
       "[2, 3, 4, 5, 6, 7, 8, 9]"
      ]
     },
     "execution_count": 31,
     "metadata": {},
     "output_type": "execute_result"
    }
   ],
   "source": [
    "list(range(2,10))"
   ]
  },
  {
   "cell_type": "code",
   "execution_count": null,
   "id": "1030c46e-be64-44eb-b003-61a49581bed7",
   "metadata": {},
   "outputs": [],
   "source": [
    "si no le pongo nada es de paso 1"
   ]
  },
  {
   "cell_type": "code",
   "execution_count": 32,
   "id": "04ef3a8e",
   "metadata": {},
   "outputs": [
    {
     "data": {
      "text/plain": [
       "[0, 10, 20, 30, 40, 50, 60, 70, 80, 90, 100]"
      ]
     },
     "execution_count": 32,
     "metadata": {},
     "output_type": "execute_result"
    }
   ],
   "source": [
    "list(range(0,101,10))"
   ]
  },
  {
   "cell_type": "code",
   "execution_count": null,
   "id": "48972e20-930e-4c2c-b9c2-b5989dcc9afe",
   "metadata": {},
   "outputs": [],
   "source": [
    "Aqui le ponemos de paso 10 al final. "
   ]
  },
  {
   "cell_type": "code",
   "execution_count": null,
   "id": "db87797c-0ccd-43b3-9e2e-0768a4f03f0a",
   "metadata": {},
   "outputs": [],
   "source": [
    "Paso menos -1 nos la da al reves"
   ]
  },
  {
   "cell_type": "code",
   "execution_count": 33,
   "id": "3ae0d1a6",
   "metadata": {
    "scrolled": true
   },
   "outputs": [
    {
     "data": {
      "text/plain": [
       "range(0, 101, 10)"
      ]
     },
     "execution_count": 33,
     "metadata": {},
     "output_type": "execute_result"
    }
   ],
   "source": [
    "range(0,101,10)"
   ]
  },
  {
   "cell_type": "code",
   "execution_count": null,
   "id": "8e9a4e08-c146-4862-a7b9-3efd9051c01a",
   "metadata": {},
   "outputs": [],
   "source": [
    "por eso hay que poner list"
   ]
  },
  {
   "cell_type": "markdown",
   "id": "c54ba192",
   "metadata": {},
   "source": [
    "### Enumerate"
   ]
  },
  {
   "cell_type": "code",
   "execution_count": 34,
   "id": "ca413708",
   "metadata": {
    "scrolled": true
   },
   "outputs": [
    {
     "name": "stdout",
     "output_type": "stream",
     "text": [
      "At index 0 the letter is a\n",
      "At index 1 the letter is b\n",
      "At index 2 the letter is c\n",
      "At index 3 the letter is d\n",
      "At index 4 the letter is e\n"
     ]
    }
   ],
   "source": [
    "# Se usa sobre todo para los bucles for\n",
    "index_count = 0\n",
    "\n",
    "for letter in 'abcde':\n",
    "    print(\"At index {} the letter is {}\".format(index_count,letter))\n",
    "    index_count += 1"
   ]
  },
  {
   "cell_type": "code",
   "execution_count": null,
   "id": "9c00ba5e-ddab-4e9f-b995-6078715be992",
   "metadata": {},
   "outputs": [],
   "source": []
  },
  {
   "cell_type": "code",
   "execution_count": 35,
   "id": "f7ce453d",
   "metadata": {
    "scrolled": true
   },
   "outputs": [
    {
     "name": "stdout",
     "output_type": "stream",
     "text": [
      "At index 0 the letter is  a\n",
      "At index 1 the letter is  b\n",
      "At index 2 the letter is  c\n",
      "At index 3 the letter is  d\n",
      "At index 4 the letter is  e\n"
     ]
    }
   ],
   "source": [
    "for i,letter in enumerate('abcde'):\n",
    "    #print(\"At index {} the letter is {}\".format(i,letter))\n",
    "    print(f\"At index {i} the letter is  {letter}\")"
   ]
  },
  {
   "cell_type": "code",
   "execution_count": null,
   "id": "552f694e-74bf-4a08-8082-fb573347e551",
   "metadata": {},
   "outputs": [],
   "source": []
  },
  {
   "cell_type": "markdown",
   "id": "299d6710",
   "metadata": {},
   "source": [
    "### In"
   ]
  },
  {
   "cell_type": "code",
   "execution_count": null,
   "id": "672181b3-b1dc-4a6d-a0c4-df083d187d47",
   "metadata": {},
   "outputs": [],
   "source": [
    "nos metemos dentro del elemento"
   ]
  },
  {
   "cell_type": "code",
   "execution_count": 36,
   "id": "14b678dd",
   "metadata": {},
   "outputs": [
    {
     "data": {
      "text/plain": [
       "True"
      ]
     },
     "execution_count": 36,
     "metadata": {},
     "output_type": "execute_result"
    }
   ],
   "source": [
    "'x' in ['x','y','z']"
   ]
  },
  {
   "cell_type": "code",
   "execution_count": null,
   "id": "b0412c9b-6fb2-4118-bbd5-591f450002a3",
   "metadata": {},
   "outputs": [],
   "source": [
    "nos evalua si esta dentro de ese elemento por ejemplo\n"
   ]
  },
  {
   "cell_type": "code",
   "execution_count": 37,
   "id": "ba5ae064",
   "metadata": {},
   "outputs": [
    {
     "data": {
      "text/plain": [
       "False"
      ]
     },
     "execution_count": 37,
     "metadata": {},
     "output_type": "execute_result"
    }
   ],
   "source": [
    "'x' in [1,2,3]"
   ]
  },
  {
   "cell_type": "markdown",
   "id": "e586cccf",
   "metadata": {},
   "source": [
    "### Not in"
   ]
  },
  {
   "cell_type": "code",
   "execution_count": 38,
   "id": "238a292d",
   "metadata": {
    "scrolled": true
   },
   "outputs": [
    {
     "data": {
      "text/plain": [
       "False"
      ]
     },
     "execution_count": 38,
     "metadata": {},
     "output_type": "execute_result"
    }
   ],
   "source": [
    "'x' not in ['x','y','z']"
   ]
  },
  {
   "cell_type": "code",
   "execution_count": null,
   "id": "758a3ed4-f517-4f10-8d49-8ff9e5245a30",
   "metadata": {},
   "outputs": [],
   "source": [
    "Lo contrario, que no esta presente"
   ]
  },
  {
   "cell_type": "code",
   "execution_count": 39,
   "id": "67d430a6",
   "metadata": {},
   "outputs": [
    {
     "data": {
      "text/plain": [
       "True"
      ]
     },
     "execution_count": 39,
     "metadata": {},
     "output_type": "execute_result"
    }
   ],
   "source": [
    "'x' not in [1,2,3]"
   ]
  },
  {
   "cell_type": "markdown",
   "id": "c4f38285",
   "metadata": {},
   "source": [
    "### Min, max"
   ]
  },
  {
   "cell_type": "code",
   "execution_count": null,
   "id": "b9201f9d-b500-41b9-a5f8-14751551fd07",
   "metadata": {},
   "outputs": [],
   "source": [
    "minimo y maximo, "
   ]
  },
  {
   "cell_type": "code",
   "execution_count": 40,
   "id": "e533e97a",
   "metadata": {},
   "outputs": [
    {
     "data": {
      "text/plain": [
       "10"
      ]
     },
     "execution_count": 40,
     "metadata": {},
     "output_type": "execute_result"
    }
   ],
   "source": [
    "mylist = [10,20,30,40,100]\n",
    "min(mylist)"
   ]
  },
  {
   "cell_type": "code",
   "execution_count": 41,
   "id": "76651fae",
   "metadata": {},
   "outputs": [
    {
     "data": {
      "text/plain": [
       "100"
      ]
     },
     "execution_count": 41,
     "metadata": {},
     "output_type": "execute_result"
    }
   ],
   "source": [
    "max(mylist)"
   ]
  },
  {
   "cell_type": "markdown",
   "id": "ffda0722",
   "metadata": {},
   "source": [
    "### Random"
   ]
  },
  {
   "cell_type": "code",
   "execution_count": 42,
   "id": "a87e5cc6",
   "metadata": {
    "scrolled": true
   },
   "outputs": [
    {
     "data": {
      "text/plain": [
       "[30, 20, 40, 10, 100]"
      ]
     },
     "execution_count": 42,
     "metadata": {},
     "output_type": "execute_result"
    }
   ],
   "source": [
    "# Aquí vamos a importar shuffle que viene con la librería random. \n",
    "# Digamos que sirve para descolocar una lista\n",
    "from random import shuffle\n",
    "shuffle(mylist)\n",
    "mylist"
   ]
  },
  {
   "cell_type": "code",
   "execution_count": null,
   "id": "d651bfe0-accc-4939-a02f-e84a46169773",
   "metadata": {},
   "outputs": [],
   "source": [
    "Es un modulo cogemos sufle. Le pedido qu enos lo ordene aleatorio"
   ]
  },
  {
   "cell_type": "code",
   "execution_count": 43,
   "id": "0e74ce27",
   "metadata": {},
   "outputs": [
    {
     "data": {
      "text/plain": [
       "58"
      ]
     },
     "execution_count": 43,
     "metadata": {},
     "output_type": "execute_result"
    }
   ],
   "source": [
    "# Otra función es randint que nos genera un número entero aleatorio entre a y b, incluyendo tanto a a como a b\n",
    "from random import randint\n",
    "randint(0,100)"
   ]
  },
  {
   "cell_type": "code",
   "execution_count": null,
   "id": "1e58e5db-4151-4110-80bd-728b37c7d889",
   "metadata": {},
   "outputs": [],
   "source": [
    "Nos da un numero aleatorio entero del rango que le damos "
   ]
  },
  {
   "cell_type": "markdown",
   "id": "68e2315f",
   "metadata": {},
   "source": [
    "### Input"
   ]
  },
  {
   "cell_type": "code",
   "execution_count": 44,
   "id": "e9a1b684",
   "metadata": {
    "scrolled": true
   },
   "outputs": [
    {
     "name": "stdin",
     "output_type": "stream",
     "text": [
      "Pon algo aquí:  holakpowjfeojf\n"
     ]
    },
    {
     "data": {
      "text/plain": [
       "'holakpowjfeojf'"
      ]
     },
     "execution_count": 44,
     "metadata": {},
     "output_type": "execute_result"
    }
   ],
   "source": [
    "input('Pon algo aquí: ')"
   ]
  },
  {
   "cell_type": "code",
   "execution_count": null,
   "id": "48610c1a-d337-43c4-858b-173cdea56bd2",
   "metadata": {},
   "outputs": [],
   "source": [
    "poner entrada de usuario"
   ]
  },
  {
   "cell_type": "markdown",
   "id": "70a24624",
   "metadata": {},
   "source": [
    "# EJERCICIOS"
   ]
  },
  {
   "cell_type": "markdown",
   "id": "ba7edaf2",
   "metadata": {},
   "source": [
    "#### 1.- Emplea for, split() e if para crear un código que imprima todas las palabras que empiecen por 's'."
   ]
  },
  {
   "cell_type": "code",
   "execution_count": 48,
   "id": "f0683703",
   "metadata": {},
   "outputs": [],
   "source": [
    "st = 'Print only the words that Start with s in this sentence'"
   ]
  },
  {
   "cell_type": "code",
   "execution_count": 45,
   "id": "9b83bea4-5e3c-46a3-b102-0da46835e1f5",
   "metadata": {},
   "outputs": [],
   "source": [
    "lista=['Print only the words that Start with s in this sentence']"
   ]
  },
  {
   "cell_type": "code",
   "execution_count": 46,
   "id": "8f0c3389-ebc1-4c11-90b7-bd73388c892e",
   "metadata": {
    "scrolled": true
   },
   "outputs": [
    {
     "data": {
      "text/plain": [
       "['Print only the words that Start with s in this sentence']"
      ]
     },
     "execution_count": 46,
     "metadata": {},
     "output_type": "execute_result"
    }
   ],
   "source": [
    "lista"
   ]
  },
  {
   "cell_type": "code",
   "execution_count": 49,
   "id": "946f3523-0ad4-46c9-a5d7-505c9cc477d5",
   "metadata": {},
   "outputs": [
    {
     "name": "stdout",
     "output_type": "stream",
     "text": [
      "['Print', 'only', 'the', 'words', 'that', 'Start', 'with', 's', 'in', 'this', 'sentence']\n"
     ]
    }
   ],
   "source": [
    "lista = st.split()\n",
    "print(lista)\n"
   ]
  },
  {
   "cell_type": "code",
   "execution_count": 71,
   "id": "fa25ac2e-b02f-4673-8156-5d76c1cf9279",
   "metadata": {},
   "outputs": [
    {
     "name": "stdout",
     "output_type": "stream",
     "text": [
      "Start\n",
      "s\n",
      "sentence\n"
     ]
    }
   ],
   "source": [
    "lista = st.split()\n",
    "for i in lista:\n",
    "    if i[0] == 's' or i[0] =='S':\n",
    "       print(i)\n"
   ]
  },
  {
   "cell_type": "markdown",
   "id": "a51e8a31",
   "metadata": {},
   "source": [
    "#### 2.- Usa range() para hacer una lista con todos los números pares del 0 al 10"
   ]
  },
  {
   "cell_type": "code",
   "execution_count": 74,
   "id": "0429e480-f990-49fd-989e-8d9976688778",
   "metadata": {},
   "outputs": [
    {
     "data": {
      "text/plain": [
       "[0, 2, 4, 6, 8, 10]"
      ]
     },
     "execution_count": 74,
     "metadata": {},
     "output_type": "execute_result"
    }
   ],
   "source": [
    "list(range(0,11,2))"
   ]
  },
  {
   "cell_type": "markdown",
   "id": "5a18ad79",
   "metadata": {},
   "source": [
    "#### 3.- Recorre la siguiente string e imprime  solo las palabras que tengan una longitud par"
   ]
  },
  {
   "cell_type": "code",
   "execution_count": 75,
   "id": "45977e3a",
   "metadata": {},
   "outputs": [],
   "source": [
    "st = 'Print every word in this sentence that has an even number of letters'"
   ]
  },
  {
   "cell_type": "code",
   "execution_count": 80,
   "id": "a78ad319-9e5d-40e1-81d6-569ae9da311b",
   "metadata": {},
   "outputs": [
    {
     "name": "stdout",
     "output_type": "stream",
     "text": [
      "word\n",
      "in\n",
      "this\n",
      "sentence\n",
      "that\n",
      "an\n",
      "even\n",
      "number\n",
      "of\n"
     ]
    }
   ],
   "source": [
    "lista2 = st.split()\n",
    "for palabra in lista2:\n",
    "    if len(palabra)% 2 == 0:\n",
    "        print(palabra)"
   ]
  },
  {
   "cell_type": "markdown",
   "id": "d9c76b41",
   "metadata": {},
   "source": [
    "#### 4.- Escribe un pequeño algoritmo que imprima los enteros del 1 al 100. \n",
    "#### Para múltiplos de 3 escribe 'Fizz' en lugar del número\n",
    "#### Para múltiplos de 5 escribe 'Buzz'\n",
    "#### Para los que sean múltiplos de 3 y de 5 escribe 'FizzBuzz'"
   ]
  },
  {
   "cell_type": "code",
   "execution_count": 93,
   "id": "6aeb683d-715f-49ee-abf4-1597b592aea9",
   "metadata": {},
   "outputs": [
    {
     "name": "stdout",
     "output_type": "stream",
     "text": [
      "1\n",
      "2\n",
      "Frizz\n",
      "4\n",
      "Buzz\n",
      "Frizz\n",
      "7\n",
      "8\n",
      "Frizz\n",
      "Buzz\n",
      "11\n",
      "Frizz\n",
      "13\n",
      "14\n",
      "FizzBuzz\n",
      "16\n",
      "17\n",
      "Frizz\n",
      "19\n",
      "Buzz\n",
      "Frizz\n",
      "22\n",
      "23\n",
      "Frizz\n",
      "Buzz\n",
      "26\n",
      "Frizz\n",
      "28\n",
      "29\n",
      "FizzBuzz\n",
      "31\n",
      "32\n",
      "Frizz\n",
      "34\n",
      "Buzz\n",
      "Frizz\n",
      "37\n",
      "38\n",
      "Frizz\n",
      "Buzz\n",
      "41\n",
      "Frizz\n",
      "43\n",
      "44\n",
      "FizzBuzz\n",
      "46\n",
      "47\n",
      "Frizz\n",
      "49\n",
      "Buzz\n",
      "Frizz\n",
      "52\n",
      "53\n",
      "Frizz\n",
      "Buzz\n",
      "56\n",
      "Frizz\n",
      "58\n",
      "59\n",
      "FizzBuzz\n",
      "61\n",
      "62\n",
      "Frizz\n",
      "64\n",
      "Buzz\n",
      "Frizz\n",
      "67\n",
      "68\n",
      "Frizz\n",
      "Buzz\n",
      "71\n",
      "Frizz\n",
      "73\n",
      "74\n",
      "FizzBuzz\n",
      "76\n",
      "77\n",
      "Frizz\n",
      "79\n",
      "Buzz\n",
      "Frizz\n",
      "82\n",
      "83\n",
      "Frizz\n",
      "Buzz\n",
      "86\n",
      "Frizz\n",
      "88\n",
      "89\n",
      "FizzBuzz\n",
      "91\n",
      "92\n",
      "Frizz\n",
      "94\n",
      "Buzz\n",
      "Frizz\n",
      "97\n",
      "98\n",
      "Frizz\n",
      "Buzz\n"
     ]
    }
   ],
   "source": [
    "for num in range(1,101):\n",
    "    if num % 3 == 0 and num % 5== 0:\n",
    "        print(\"FizzBuzz\")\n",
    "    elif num % 3 ==0:\n",
    "        print(\"Frizz\")\n",
    "    elif num % 5 == 0: \n",
    "        print(\"Buzz\")\n",
    "    else:\n",
    "        print(num)"
   ]
  },
  {
   "cell_type": "code",
   "execution_count": null,
   "id": "bf3dffa5-bc55-455c-99ba-a4a6af69a9af",
   "metadata": {},
   "outputs": [],
   "source": []
  }
 ],
 "metadata": {
  "kernelspec": {
   "display_name": "Python [conda env:base] *",
   "language": "python",
   "name": "conda-base-py"
  },
  "language_info": {
   "codemirror_mode": {
    "name": "ipython",
    "version": 3
   },
   "file_extension": ".py",
   "mimetype": "text/x-python",
   "name": "python",
   "nbconvert_exporter": "python",
   "pygments_lexer": "ipython3",
   "version": "3.13.5"
  }
 },
 "nbformat": 4,
 "nbformat_minor": 5
}
